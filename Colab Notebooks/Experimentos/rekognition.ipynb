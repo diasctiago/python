{
 "cells": [
  {
   "cell_type": "code",
   "execution_count": null,
   "metadata": {
    "colab": {
     "base_uri": "https://localhost:8080/"
    },
    "executionInfo": {
     "elapsed": 10444,
     "status": "ok",
     "timestamp": 1649845978869,
     "user": {
      "displayName": "Tiago Dias",
      "userId": "11325234452599299452"
     },
     "user_tz": 180
    },
    "id": "1ln-8AbnMV3e",
    "outputId": "077e68c2-0834-4647-f342-621f70047826"
   },
   "outputs": [],
   "source": [
    "!pip install boto3"
   ]
  },
  {
   "cell_type": "code",
   "execution_count": null,
   "metadata": {
    "executionInfo": {
     "elapsed": 7,
     "status": "ok",
     "timestamp": 1649845978870,
     "user": {
      "displayName": "Tiago Dias",
      "userId": "11325234452599299452"
     },
     "user_tz": 180
    },
    "id": "h0HMHCDPNgL5"
   },
   "outputs": [],
   "source": [
    "import boto3\n",
    "import json\n",
    "\n",
    "# Credenciais de acesso \n",
    "ACCESS_KEY = 'ACCESS_KEY'#os.environ.get('AWS_ACCESS_KEY_ID')\n",
    "SECRET_KEY = 'SECRET_KEY'#os.environ.get('AWS_SECRET_ACCESS_KEY')\n",
    "\n",
    "# Variáveis de configuração\n",
    "FILENAME='img.png'\n",
    "BUCKET='rekognition-dev99'"
   ]
  },
  {
   "cell_type": "code",
   "execution_count": null,
   "metadata": {
    "executionInfo": {
     "elapsed": 658,
     "status": "ok",
     "timestamp": 1649845993834,
     "user": {
      "displayName": "Tiago Dias",
      "userId": "11325234452599299452"
     },
     "user_tz": 180
    },
    "id": "nuUfNFHnRNPo"
   },
   "outputs": [],
   "source": [
    "# Upload da imagem no S3\n",
    "s3_client = boto3.client('s3', aws_access_key_id = ACCESS_KEY, aws_secret_access_key= SECRET_KEY)\n",
    "s3_client.upload_file(FILENAME, BUCKET, FILENAME)"
   ]
  },
  {
   "cell_type": "code",
   "execution_count": null,
   "metadata": {
    "colab": {
     "base_uri": "https://localhost:8080/"
    },
    "executionInfo": {
     "elapsed": 691,
     "status": "ok",
     "timestamp": 1649845995763,
     "user": {
      "displayName": "Tiago Dias",
      "userId": "11325234452599299452"
     },
     "user_tz": 180
    },
    "id": "6uHYI_JnMqxs",
    "outputId": "c5e5b63e-cd3f-46eb-b064-8200c758299f"
   },
   "outputs": [],
   "source": [
    "# Detectando tags da imagem do S3\n",
    "client=boto3.client('rekognition', region_name='us-east-1', aws_access_key_id = ACCESS_KEY, aws_secret_access_key= SECRET_KEY)\n",
    "\n",
    "response = client.detect_labels(\n",
    "    Image={'S3Object':{'Bucket':BUCKET,'Name':FILENAME}},\n",
    "    MaxLabels=123,\n",
    "    MinConfidence=80)\n",
    "\n",
    "print('Detected labels for ' + FILENAME)    \n",
    "for label in response['Labels']:\n",
    "    print (label['Name'] + ' : ' + str(label['Confidence']))"
   ]
  },
  {
   "cell_type": "code",
   "execution_count": null,
   "metadata": {
    "executionInfo": {
     "elapsed": 2,
     "status": "ok",
     "timestamp": 1649846391007,
     "user": {
      "displayName": "Tiago Dias",
      "userId": "11325234452599299452"
     },
     "user_tz": 180
    },
    "id": "2tCxqPIWv0Jn"
   },
   "outputs": [],
   "source": [
    "json_labels =  {label['Name'] : label['Confidence'] for label in response['Labels']}\n",
    "#json_labels = json.dumps(json_labels)"
   ]
  },
  {
   "cell_type": "code",
   "execution_count": null,
   "metadata": {
    "executionInfo": {
     "elapsed": 272,
     "status": "ok",
     "timestamp": 1649846409906,
     "user": {
      "displayName": "Tiago Dias",
      "userId": "11325234452599299452"
     },
     "user_tz": 180
    },
    "id": "6mhNhFCWxOC8"
   },
   "outputs": [],
   "source": [
    "with open('json_labels.json', 'w') as f:\n",
    "    json.dump(json_labels, f)"
   ]
  },
  {
   "cell_type": "code",
   "execution_count": null,
   "metadata": {
    "id": "1l8g4pmiBk9p"
   },
   "outputs": [],
   "source": [
    "import requests\n",
    "import json\n",
    "\n",
    "# Requisição dos dados\n",
    "url        = 'url'\n",
    "parametros = {}\n",
    "resposta   = requests.request(\"GET\", url, params=parametros)\n",
    "objetos    = json.loads(resposta.text)"
   ]
  },
  {
   "cell_type": "code",
   "execution_count": null,
   "metadata": {
    "colab": {
     "base_uri": "https://localhost:8080/"
    },
    "executionInfo": {
     "elapsed": 333,
     "status": "ok",
     "timestamp": 1649795374768,
     "user": {
      "displayName": "Tiago Dias",
      "userId": "11325234452599299452"
     },
     "user_tz": 180
    },
    "id": "Jbd681GfcYQN",
    "outputId": "1a0c4d21-6c4e-4bc8-e4cd-cbf129f5495e"
   },
   "outputs": [],
   "source": [
    "import json\n",
    "import boto3\n",
    "import io\n",
    "\n",
    "def lambda_handler(event, context):\n",
    "\n",
    "    ACCESS_KEY = 'ACCESS_KEY'#os.environ.get('AWS_ACCESS_KEY_ID')\n",
    "    SECRET_KEY = 'SECRET_KEY'#os.environ.get('AWS_SECRET_ACCESS_KEY')\n",
    "    \n",
    "    FILENAME='img.png'\n",
    "    BUCKET='rekognition-dev99'\n",
    "    \n",
    "    #s3_client = boto3.client('s3', aws_access_key_id = ACCESS_KEY, aws_secret_access_key= SECRET_KEY)\n",
    "    \n",
    "    #file = io.BytesIO(bytes(event['file_content'], encoding='utf-8'))\n",
    "    \n",
    "    #bucket = s3_client.Bucket(BUCKET)\n",
    "    #bucket_object = bucket.Object(FILENAME)\n",
    "    #bucket_object.upload_fileobj(file)\n",
    "\n",
    "    client=boto3.client('rekognition', region_name='us-east-1', aws_access_key_id = ACCESS_KEY, aws_secret_access_key= SECRET_KEY)\n",
    "    \n",
    "    response = client.detect_labels(\n",
    "        Image={'S3Object':{'Bucket':BUCKET,'Name':FILENAME}},\n",
    "        MaxLabels=123,\n",
    "        MinConfidence=80)\n",
    "    \n",
    "    print('Detected labels for ' + FILENAME)    \n",
    "    for label in response['Labels']:\n",
    "        print (label['Name'] + ' : ' + str(label['Confidence']))\n",
    "    \n",
    "    return {\n",
    "        'statusCode': 200,\n",
    "        'body': response\n",
    "    }\n"
   ]
  }
 ],
 "metadata": {
  "colab": {
   "authorship_tag": "ABX9TyMIFFtKrLWz7uTYiU4BYrzC",
   "name": "rekognition.ipynb",
   "provenance": []
  },
  "kernelspec": {
   "display_name": "Python 3 (ipykernel)",
   "language": "python",
   "name": "python3"
  },
  "language_info": {
   "codemirror_mode": {
    "name": "ipython",
    "version": 3
   },
   "file_extension": ".py",
   "mimetype": "text/x-python",
   "name": "python",
   "nbconvert_exporter": "python",
   "pygments_lexer": "ipython3",
   "version": "3.9.12"
  }
 },
 "nbformat": 4,
 "nbformat_minor": 1
}
