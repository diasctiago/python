{
 "cells": [
  {
   "cell_type": "markdown",
   "metadata": {
    "id": "eHSn8DCF_X8A"
   },
   "source": [
    "[Using Python to Push Your Pandas DataFrame to Google Sheets](https://towardsdatascience.com/using-python-to-push-your-pandas-dataframe-to-google-sheets-de69422508f)"
   ]
  },
  {
   "cell_type": "code",
   "execution_count": null,
   "metadata": {
    "colab": {
     "base_uri": "https://localhost:8080/",
     "height": 575
    },
    "executionInfo": {
     "elapsed": 4136,
     "status": "ok",
     "timestamp": 1642432671905,
     "user": {
      "displayName": "Tiago Dias",
      "photoUrl": "https://lh3.googleusercontent.com/a-/AOh14GiW4O_25wWQwVNJvj8cP-mYxouZ1TLUXKUrN-to2JQ=s64",
      "userId": "11325234452599299452"
     },
     "user_tz": 180
    },
    "id": "jIixTGji_ng2",
    "outputId": "744487db-dc81-4de8-dd50-dd5b83893944"
   },
   "outputs": [],
   "source": [
    "!pip install df2gspread"
   ]
  },
  {
   "cell_type": "code",
   "execution_count": null,
   "metadata": {
    "executionInfo": {
     "elapsed": 399,
     "status": "ok",
     "timestamp": 1642432849624,
     "user": {
      "displayName": "Tiago Dias",
      "photoUrl": "https://lh3.googleusercontent.com/a-/AOh14GiW4O_25wWQwVNJvj8cP-mYxouZ1TLUXKUrN-to2JQ=s64",
      "userId": "11325234452599299452"
     },
     "user_tz": 180
    },
    "id": "L76kZZDI_MMw"
   },
   "outputs": [],
   "source": [
    "import pandas as pd\n",
    "import gspread\n",
    "from df2gspread.df2gspread import upload\n",
    "import json\n",
    "from oauth2client.service_account import ServiceAccountCredentials"
   ]
  },
  {
   "cell_type": "code",
   "execution_count": null,
   "metadata": {
    "colab": {
     "base_uri": "https://localhost:8080/",
     "height": 143
    },
    "executionInfo": {
     "elapsed": 374,
     "status": "ok",
     "timestamp": 1642433023323,
     "user": {
      "displayName": "Tiago Dias",
      "photoUrl": "https://lh3.googleusercontent.com/a-/AOh14GiW4O_25wWQwVNJvj8cP-mYxouZ1TLUXKUrN-to2JQ=s64",
      "userId": "11325234452599299452"
     },
     "user_tz": 180
    },
    "id": "WVRchRgl_hUk",
    "outputId": "b6094fc2-6dc1-4fbf-a379-f1d540052efa"
   },
   "outputs": [],
   "source": [
    "d = {'col1': [1, 2, 3], 'col2': ['Texto Linha 1', 'Texto Linha 2', 'Texto Linha 3']}\n",
    "df = pd.DataFrame(data=d)\n",
    "df.head()"
   ]
  },
  {
   "cell_type": "code",
   "execution_count": null,
   "metadata": {
    "colab": {
     "base_uri": "https://localhost:8080/"
    },
    "executionInfo": {
     "elapsed": 389,
     "status": "ok",
     "timestamp": 1642432939294,
     "user": {
      "displayName": "Tiago Dias",
      "photoUrl": "https://lh3.googleusercontent.com/a-/AOh14GiW4O_25wWQwVNJvj8cP-mYxouZ1TLUXKUrN-to2JQ=s64",
      "userId": "11325234452599299452"
     },
     "user_tz": 180
    },
    "id": "RlxFGtmy_haE",
    "outputId": "0f589492-5328-4a80-83c2-109d76809e2e"
   },
   "outputs": [],
   "source": [
    "file_json = open('credentials.json')\n",
    "credentials = json.loads(file_json.read())\n",
    "credentials"
   ]
  },
  {
   "cell_type": "code",
   "execution_count": null,
   "metadata": {
    "executionInfo": {
     "elapsed": 380,
     "status": "ok",
     "timestamp": 1642432946935,
     "user": {
      "displayName": "Tiago Dias",
      "photoUrl": "https://lh3.googleusercontent.com/a-/AOh14GiW4O_25wWQwVNJvj8cP-mYxouZ1TLUXKUrN-to2JQ=s64",
      "userId": "11325234452599299452"
     },
     "user_tz": 180
    },
    "id": "JZLn7Ka6_hdI"
   },
   "outputs": [],
   "source": [
    "scope = ['https://spreadsheets.google.com/feeds',\n",
    "         'https://www.googleapis.com/auth/drive']\n",
    "\n",
    "credentials = ServiceAccountCredentials.from_json_keyfile_name('credentials.json', scope)\n",
    "gc = gspread.authorize(credentials)"
   ]
  },
  {
   "cell_type": "code",
   "execution_count": null,
   "metadata": {
    "colab": {
     "base_uri": "https://localhost:8080/",
     "height": 35
    },
    "executionInfo": {
     "elapsed": 3717,
     "status": "ok",
     "timestamp": 1642433034446,
     "user": {
      "displayName": "Tiago Dias",
      "photoUrl": "https://lh3.googleusercontent.com/a-/AOh14GiW4O_25wWQwVNJvj8cP-mYxouZ1TLUXKUrN-to2JQ=s64",
      "userId": "11325234452599299452"
     },
     "user_tz": 180
    },
    "id": "KsD-1kz-_hga",
    "outputId": "323213be-b56b-4072-d7d4-843ff23bfdcb"
   },
   "outputs": [],
   "source": [
    "spreadsheet_key = 'spreadsheet_key'\n",
    "wks_name = 'P1'\n",
    "wks = upload(df, spreadsheet_key, wks_name=wks_name, credentials=credentials, row_names=True)\n",
    "wks.title"
   ]
  },
  {
   "cell_type": "code",
   "execution_count": null,
   "metadata": {
    "id": "gic4Eo1-_hkM"
   },
   "outputs": [],
   "source": []
  },
  {
   "cell_type": "code",
   "execution_count": null,
   "metadata": {
    "id": "VQmVBsl4_hm0"
   },
   "outputs": [],
   "source": []
  },
  {
   "cell_type": "code",
   "execution_count": null,
   "metadata": {
    "id": "w8SH7rGY_hpb"
   },
   "outputs": [],
   "source": []
  }
 ],
 "metadata": {
  "colab": {
   "authorship_tag": "ABX9TyONpx7rV9pbhEKvKH46ECN2",
   "name": "PythonGoogleDrive.ipynb",
   "provenance": []
  },
  "kernelspec": {
   "display_name": "Python 3 (ipykernel)",
   "language": "python",
   "name": "python3"
  },
  "language_info": {
   "codemirror_mode": {
    "name": "ipython",
    "version": 3
   },
   "file_extension": ".py",
   "mimetype": "text/x-python",
   "name": "python",
   "nbconvert_exporter": "python",
   "pygments_lexer": "ipython3",
   "version": "3.9.12"
  }
 },
 "nbformat": 4,
 "nbformat_minor": 1
}
