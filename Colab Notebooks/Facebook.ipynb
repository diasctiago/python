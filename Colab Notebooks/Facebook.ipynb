{
 "cells": [
  {
   "cell_type": "code",
   "execution_count": null,
   "metadata": {
    "colab": {
     "base_uri": "https://localhost:8080/"
    },
    "executionInfo": {
     "elapsed": 15532,
     "status": "ok",
     "timestamp": 1635252642743,
     "user": {
      "displayName": "Tiago Dias",
      "photoUrl": "https://lh3.googleusercontent.com/a-/AOh14GiW4O_25wWQwVNJvj8cP-mYxouZ1TLUXKUrN-to2JQ=s64",
      "userId": "11325234452599299452"
     },
     "user_tz": 180
    },
    "id": "sKa_XXRkLbwH",
    "outputId": "0569e1d5-0b4e-4284-9eb7-777fa60dcce2"
   },
   "outputs": [],
   "source": [
    "!pip install facebook_business"
   ]
  },
  {
   "cell_type": "code",
   "execution_count": null,
   "metadata": {
    "colab": {
     "base_uri": "https://localhost:8080/"
    },
    "executionInfo": {
     "elapsed": 302,
     "status": "ok",
     "timestamp": 1635252706625,
     "user": {
      "displayName": "Tiago Dias",
      "photoUrl": "https://lh3.googleusercontent.com/a-/AOh14GiW4O_25wWQwVNJvj8cP-mYxouZ1TLUXKUrN-to2JQ=s64",
      "userId": "11325234452599299452"
     },
     "user_tz": 180
    },
    "id": "ywjP_2tPpsVt",
    "outputId": "8906cbc5-82c9-4a2e-fe05-92073d2df3aa"
   },
   "outputs": [],
   "source": [
    "!facebook_business --version"
   ]
  },
  {
   "cell_type": "code",
   "execution_count": null,
   "metadata": {
    "id": "n8n_pQwAKm4N"
   },
   "outputs": [],
   "source": [
    "#!/usr/bin/python3\n",
    "# -*- coding: UTF-8 -*-\n",
    "\n",
    "import os\n",
    "import toml\n",
    "from os.path import basename\n",
    "import sys\n",
    "from sys import platform\n",
    "import json\n",
    "import time\n",
    "import requests\n",
    "from datetime import timedelta, date\n",
    "from datetime import datetime, timedelta\n",
    "from facebook_business.api import FacebookAdsApi\n",
    "from facebook_business.adobjects.adaccount import AdAccount\n",
    "from facebook_business.adobjects.adset import AdSet\n",
    "from facebook_business.adobjects.ad import Ad\n",
    "from facebook_business.adobjects.adcreative import AdCreative\n",
    "from facebook_business.adobjects.adsinsights import AdsInsights\n",
    "from facebook_business.adobjects.campaign import Campaign"
   ]
  },
  {
   "cell_type": "code",
   "execution_count": null,
   "metadata": {
    "id": "121i0tcXLCe2"
   },
   "outputs": [],
   "source": [
    "with open('fb_config.toml') as conffile:\n",
    "    config = toml.loads(conffile.read())\n",
    "    my_app_id = config[\"my_app_id\"]\n",
    "    my_app_secret = config[\"my_app_secret\"]\n",
    "    my_access_token = config[\"my_access_token\"]\n",
    "    id_business = config[\"id_business\"]\n",
    "    id_sp = config[\"id_sp\"]\n",
    "    id_pr = config[\"id_pr\"]\n",
    "\n",
    "FACEBOOK_CLIENT_ID = my_app_id\n",
    "FACEBOOK_CLIENT_SECRET = my_app_secret\n",
    "FACEBOOK_ACCESS_TOKEN = my_access_token\n",
    "FACEBOOK_ACCOUNT_ID = id_sp"
   ]
  },
  {
   "cell_type": "code",
   "execution_count": null,
   "metadata": {
    "colab": {
     "base_uri": "https://localhost:8080/",
     "height": 35
    },
    "executionInfo": {
     "elapsed": 3,
     "status": "ok",
     "timestamp": 1633435189403,
     "user": {
      "displayName": "Tiago Dias",
      "photoUrl": "https://lh3.googleusercontent.com/a-/AOh14GiW4O_25wWQwVNJvj8cP-mYxouZ1TLUXKUrN-to2JQ=s64",
      "userId": "11325234452599299452"
     },
     "user_tz": 180
    },
    "id": "qBxADYoHUudM",
    "outputId": "5c557e0a-23e3-4b67-b03c-f366597f477c"
   },
   "outputs": [],
   "source": []
  },
  {
   "cell_type": "code",
   "execution_count": null,
   "metadata": {
    "colab": {
     "base_uri": "https://localhost:8080/",
     "height": 664
    },
    "executionInfo": {
     "elapsed": 682,
     "status": "error",
     "timestamp": 1633444135953,
     "user": {
      "displayName": "Tiago Dias",
      "photoUrl": "https://lh3.googleusercontent.com/a-/AOh14GiW4O_25wWQwVNJvj8cP-mYxouZ1TLUXKUrN-to2JQ=s64",
      "userId": "11325234452599299452"
     },
     "user_tz": 180
    },
    "id": "Jev3H8_xO7jb",
    "outputId": "b0226526-7efd-4e41-894c-ced426e8ce6e"
   },
   "outputs": [],
   "source": [
    "from facebook_business.adobjects.adset import AdSet\n",
    "from facebook_business.adobjects.adsinsights import AdsInsights\n",
    "from facebook_business.api import FacebookAdsApi\n",
    "\n",
    "access_token = my_access_token\n",
    "app_secret = my_app_secret\n",
    "app_id = my_app_id\n",
    "id = id_sp\n",
    "FacebookAdsApi.init(access_token=access_token)\n",
    "\n",
    "fields = [\n",
    "  'impressions',\n",
    "]\n",
    "params = {\n",
    "  'breakdown': 'publisher_platform',\n",
    "}\n",
    "insights_ = AdSet(id).get_insights(\n",
    "  fields=fields,\n",
    "  params=params,\n",
    ")\n"
   ]
  },
  {
   "cell_type": "code",
   "execution_count": null,
   "metadata": {
    "id": "N_Vfda68NJGa"
   },
   "outputs": [],
   "source": []
  },
  {
   "cell_type": "code",
   "execution_count": null,
   "metadata": {
    "id": "iGysSc3cLCbU"
   },
   "outputs": [],
   "source": [
    "def get_campaign_statistics_for_day(date, account_id):\n",
    "  date_string = date.strftime(\"%Y-%m-%d\")\n",
    "  print(date_string)\n",
    "  ad_account = AdAccount(account_id)\n",
    "  #print(ad_account)\n",
    "\n",
    "  fields = [\n",
    "    'account_name',\n",
    "    'campaign_name',\n",
    "    'campaign_id',\n",
    "    'adset_name',\n",
    "    'adset_id',\n",
    "    'ad_name',\n",
    "    'ad_id',\n",
    "    'impressions',\n",
    "    'clicks',\n",
    "    'spend',\n",
    "    'actions',\n",
    "    'reach'\n",
    "  ]\n",
    "\n",
    "  params = {\n",
    "    'breakdowns':['device_platform'],\n",
    "    'time_range': {\n",
    "      'since': date_string,\n",
    "      'until': date_string\n",
    "    },\n",
    "    'level': 'ad',\n",
    "    'limit': 100000\n",
    "  }\n",
    "\n",
    "  ad_insights = ad_account.get_insights(fields, params)\n",
    "\n",
    "  # do whatever you want with the statistics in JSON format\n",
    "  print(ad_insights) \n",
    "\n",
    "  return ad_insights"
   ]
  },
  {
   "cell_type": "code",
   "execution_count": null,
   "metadata": {
    "id": "84XbHCzyLCYK"
   },
   "outputs": [],
   "source": [
    "if __name__ == '__main__':\n",
    "\n",
    "  FacebookAdsApi.init(FACEBOOK_CLIENT_ID, FACEBOOK_CLIENT_SECRET, FACEBOOK_ACCESS_TOKEN)\n",
    "  #my_date = (datetime.now() - timedelta(4))\n",
    "  my_date = datetime.datetime(2021, 10, 2)\n",
    "  get_campaign_statistics_for_day(my_date, FACEBOOK_ACCOUNT_ID)"
   ]
  },
  {
   "cell_type": "code",
   "execution_count": null,
   "metadata": {
    "id": "ohWQB34vLCUT"
   },
   "outputs": [],
   "source": []
  },
  {
   "cell_type": "code",
   "execution_count": null,
   "metadata": {
    "id": "_H5lQifJLCRT"
   },
   "outputs": [],
   "source": [
    "my_date = datetime.datetime(2021, 10, 2)"
   ]
  },
  {
   "cell_type": "code",
   "execution_count": null,
   "metadata": {
    "id": "OzibyjN1LCOU"
   },
   "outputs": [],
   "source": []
  },
  {
   "cell_type": "code",
   "execution_count": null,
   "metadata": {
    "colab": {
     "base_uri": "https://localhost:8080/",
     "height": 664
    },
    "executionInfo": {
     "elapsed": 699,
     "status": "error",
     "timestamp": 1633435196734,
     "user": {
      "displayName": "Tiago Dias",
      "photoUrl": "https://lh3.googleusercontent.com/a-/AOh14GiW4O_25wWQwVNJvj8cP-mYxouZ1TLUXKUrN-to2JQ=s64",
      "userId": "11325234452599299452"
     },
     "user_tz": 180
    },
    "id": "EVScq84SLCHt",
    "outputId": "601b8996-12a5-4079-d13b-f92b8b842fe4"
   },
   "outputs": [],
   "source": [
    "my_app_id = my_app_id\n",
    "my_app_secret = my_app_secret\n",
    "my_access_token = my_access_token\n",
    "FacebookAdsApi.init(my_app_id, my_app_secret, my_access_token)\n",
    "params = {'date_preset': 'last_7d'}\n",
    "insights = AdAccount(id_sp).get_insights(params = params)\n",
    "print(insights)"
   ]
  },
  {
   "cell_type": "code",
   "execution_count": null,
   "metadata": {
    "id": "7r7sWqq3_hDE"
   },
   "outputs": [],
   "source": [
    "\n",
    "from facebook_business.adobjects.adset import AdSet\n",
    "from facebook_business.adobjects.adsinsights import AdsInsights\n",
    "from facebook_business.api import FacebookAdsApi\n",
    "\n",
    "access_token = my_access_token\n",
    "app_secret = my_app_secret\n",
    "app_id = my_app_id\n",
    "id = id_sp\n",
    "FacebookAdsApi.init(app_id,app_secret,access_token)\n",
    "\n",
    "fields = [\n",
    "  'campaign_name'\n",
    "]\n",
    "params = {\n",
    "    'date_preset':'yesterday',\n",
    "    'level':'ad'\n",
    "}\n",
    "get_insights_ = AdSet(id).get_insights(\n",
    "  fields=fields,\n",
    "  params=params,\n",
    ")\n"
   ]
  },
  {
   "cell_type": "code",
   "execution_count": null,
   "metadata": {
    "id": "Asb-RprC9zMo"
   },
   "outputs": [],
   "source": [
    "# This program downloads all relevent Facebook traffic info as a csv file\n",
    "# This program requires info from the Facebook Ads API: https://github.com/facebook/facebook-python-ads-sdk\n",
    "\n",
    "# Import all the facebook mumbo jumbo\n",
    "from facebook_business.api import FacebookAdsApi\n",
    "from facebook_business.adobjects.adsinsights import AdsInsights\n",
    "from facebook_business.adobjects.business import Business\n",
    "from facebook_business.adobjects.adaccount import AdAccount\n",
    "from facebook_business.adobjects.adset import AdSet\n",
    "from facebook_business.adobjects.ad import Ad\n",
    "from facebook_business.adobjects.adcreative import AdCreative\n",
    "\n",
    "# Import th csv writer and the date/time function\n",
    "import datetime\n",
    "import csv\n",
    "\n",
    "# Set the info to get connected to the API. Do NOT share this info\n",
    "my_app_id = my_app_id\n",
    "my_app_secret = my_app_secret\n",
    "my_access_token = my_access_token\n",
    "\n",
    "# Start the connection to the facebook API\n",
    "FacebookAdsApi.init(my_app_id, my_app_secret, my_access_token)\n",
    "\n",
    "# Create a business object for the business account\n",
    "business = Business(id_business)\n",
    "\n",
    "# Get yesterday's date for the filename, and the csv data\n",
    "yesterdaybad = datetime.datetime.now() - datetime.timedelta(days=1)\n",
    "yesterdayslash = yesterdaybad.strftime('%m/%d/%Y')\n",
    "yesterdayhyphen = yesterdaybad.strftime('%m-%d-%Y')\n",
    "\n",
    "# Define the destination filename\n",
    "filename = yesterdayhyphen + '_fb.csv'\n",
    "filelocation = \"/cron/downloads/\"+ filename\n",
    "\n",
    "# Get all ad accounts on the business account\n",
    "accounts = business.get_owned_ad_accounts(fields=[AdAccount.Field.id])\n"
   ]
  },
  {
   "cell_type": "code",
   "execution_count": null,
   "metadata": {
    "colab": {
     "base_uri": "https://localhost:8080/",
     "height": 35
    },
    "executionInfo": {
     "elapsed": 278,
     "status": "ok",
     "timestamp": 1633432174857,
     "user": {
      "displayName": "Tiago Dias",
      "photoUrl": "https://lh3.googleusercontent.com/a-/AOh14GiW4O_25wWQwVNJvj8cP-mYxouZ1TLUXKUrN-to2JQ=s64",
      "userId": "11325234452599299452"
     },
     "user_tz": 180
    },
    "id": "w1sienj0G4Lg",
    "outputId": "6b796d67-aec6-46e2-f686-f2412f9ff0c1"
   },
   "outputs": [],
   "source": [
    "accounts = [AdAccount(id_sp),AdAccount(id_pr)]\n",
    "accounts[0][AdAccount.Field.id]"
   ]
  },
  {
   "cell_type": "code",
   "execution_count": null,
   "metadata": {
    "id": "HGOnLJ7SG2rj"
   },
   "outputs": [],
   "source": [
    "\n",
    "# Open or create new file \n",
    "try:\n",
    "    csvfile = open(filelocation , 'w+')\n",
    "except:\n",
    "    print (\"Cannot open file.\")\n",
    "\n",
    "\n",
    "# To keep track of rows added to file\n",
    "rows = 0\n",
    "\n",
    "try:\n",
    "    # Create file writer\n",
    "    filewriter = csv.writer(csvfile, delimiter=',')\n",
    "except Exception as err:\n",
    "    print(err)\n",
    "\n",
    "# Iterate through the adaccounts\n",
    "for account in accounts:\n",
    "    # Create an addaccount object from the adaccount id to make it possible to get insights\n",
    "    tempaccount = AdAccount(account[AdAccount.Field.id])\n",
    "\n",
    "    # Grab insight info for all ads in the adaccount\n",
    "    ads = tempaccount.get_insights(params={'date_preset':'yesterday',\n",
    "                                           'level':'ad'\n",
    "                                          },\n",
    "                                   fields=[AdsInsights.Field.account_id,\n",
    "                                           AdsInsights.Field.account_name,\n",
    "                                           AdsInsights.Field.ad_id,\n",
    "                                           AdsInsights.Field.ad_name,\n",
    "                                           AdsInsights.Field.adset_id,\n",
    "                                           AdsInsights.Field.adset_name,\n",
    "                                           AdsInsights.Field.campaign_id,\n",
    "                                           AdsInsights.Field.campaign_name,\n",
    "                                           AdsInsights.Field.cost_per_outbound_click,\n",
    "                                           AdsInsights.Field.outbound_clicks,\n",
    "                                           AdsInsights.Field.spend\n",
    "                                          ]\n",
    "    );\n",
    "\n",
    "    # Iterate through all accounts in the business account\n",
    "    for ad in ads:\n",
    "        # Set default values in case the insight info is empty\n",
    "        date = yesterdayslash\n",
    "        accountid = ad[AdsInsights.Field.account_id]\n",
    "        accountname = \"\"\n",
    "        adid = \"\"\n",
    "        adname = \"\"\n",
    "        adsetid = \"\"\n",
    "        adsetname = \"\"\n",
    "        campaignid = \"\"\n",
    "        campaignname = \"\"\n",
    "        costperoutboundclick = \"\"\n",
    "        outboundclicks = \"\"\n",
    "        spend = \"\"\n",
    "\n",
    "        # Set values from insight data\n",
    "        if ('account_id' in ad) :\n",
    "            accountid = ad[AdsInsights.Field.account_id]\n",
    "        if ('account_name' in ad) :\n",
    "            accountname = ad[AdsInsights.Field.account_name]\n",
    "        if ('ad_id' in ad) :\n",
    "            adid = ad[AdsInsights.Field.ad_id]\n",
    "        if ('ad_name' in ad) :\n",
    "            adname = ad[AdsInsights.Field.ad_name]\n",
    "        if ('adset_id' in ad) :\n",
    "            adsetid = ad[AdsInsights.Field.adset_id]\n",
    "        if ('adset_name' in ad) :\n",
    "            adsetname = ad[AdsInsights.Field.adset_name]\n",
    "        if ('campaign_id' in ad) :\n",
    "            campaignid = ad[AdsInsights.Field.campaign_id]\n",
    "        if ('campaign_name' in ad) :\n",
    "            campaignname = ad[AdsInsights.Field.campaign_name]\n",
    "        if ('cost_per_outbound_click' in ad) : # This is stored strangely, takes a few steps to break through the layers\n",
    "            costperoutboundclicklist = ad[AdsInsights.Field.cost_per_outbound_click]\n",
    "            costperoutboundclickdict = costperoutboundclicklist[0]\n",
    "            costperoutboundclick = costperoutboundclickdict.get('value')\n",
    "        if ('outbound_clicks' in ad) : # This is stored strangely, takes a few steps to break through the layers\n",
    "            outboundclickslist = ad[AdsInsights.Field.outbound_clicks]\n",
    "            outboundclicksdict = outboundclickslist[0]\n",
    "            outboundclicks = outboundclicksdict.get('value')\n",
    "        if ('spend' in ad) :\n",
    "            spend = ad[AdsInsights.Field.spend]\n",
    "\n",
    "        # Write all ad info to the file, and increment the number of rows that will display\n",
    "        filewriter.writerow([date, accountid, accountname, adid, adname, adsetid, adsetname, campaignid, campaignname, costperoutboundclick, outboundclicks, spend])\n",
    "        rows += 1\n",
    "\n",
    "\n",
    "csvfile.close()\n",
    "\n",
    "# Print report\n",
    "print (str(rows) + \" rows added to the file \" + filename)"
   ]
  }
 ],
 "metadata": {
  "colab": {
   "authorship_tag": "ABX9TyPxYSpypRP/5IwJRoyirB+8",
   "name": "Facebook.ipynb",
   "provenance": []
  },
  "kernelspec": {
   "display_name": "Python 3 (ipykernel)",
   "language": "python",
   "name": "python3"
  },
  "language_info": {
   "codemirror_mode": {
    "name": "ipython",
    "version": 3
   },
   "file_extension": ".py",
   "mimetype": "text/x-python",
   "name": "python",
   "nbconvert_exporter": "python",
   "pygments_lexer": "ipython3",
   "version": "3.9.12"
  }
 },
 "nbformat": 4,
 "nbformat_minor": 1
}
