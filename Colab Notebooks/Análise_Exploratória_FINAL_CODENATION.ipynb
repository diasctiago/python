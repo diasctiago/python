{
  "nbformat": 4,
  "nbformat_minor": 0,
  "metadata": {
    "colab": {
      "name": "Análise Exploratória - FINAL CODENATION",
      "provenance": [],
      "collapsed_sections": [],
      "toc_visible": true,
      "machine_shape": "hm"
    },
    "kernelspec": {
      "name": "python3",
      "display_name": "Python 3"
    }
  },
  "cells": [
    {
      "cell_type": "markdown",
      "metadata": {
        "id": "GSI4deAzE974",
        "colab_type": "text"
      },
      "source": [
        "![codenation](https://miro.medium.com/max/196/1*05vDjNRMACek8hWh1pnltA.png)\n",
        "\n",
        "# Análise Exploratória dos dados\n",
        "\n",
        "Por: [Cairo Rocha](https://github.com/bractus)\n"
      ]
    },
    {
      "cell_type": "code",
      "metadata": {
        "id": "jhN-Bhv0SAfy",
        "colab_type": "code",
        "colab": {}
      },
      "source": [
        "# !pip install modin[dask]"
      ],
      "execution_count": null,
      "outputs": []
    },
    {
      "cell_type": "code",
      "metadata": {
        "id": "N3lQ4MqXJaQ_",
        "colab_type": "code",
        "colab": {}
      },
      "source": [
        "\n",
        "from distributed import Client\n",
        "client = Client(n_workers=8)"
      ],
      "execution_count": 2,
      "outputs": []
    },
    {
      "cell_type": "code",
      "metadata": {
        "id": "5IRtUMUgEG5L",
        "colab_type": "code",
        "colab": {
          "base_uri": "https://localhost:8080/",
          "height": 88
        },
        "outputId": "396c4014-f601-4a00-cb07-a1e92fedb447"
      },
      "source": [
        "import modin.pandas as pd\n",
        "import seaborn as sns\n",
        "import matplotlib.pyplot as plt\n",
        "from yellowbrick.features import Rank2D\n",
        "import numpy as np\n",
        "import os"
      ],
      "execution_count": 3,
      "outputs": [
        {
          "output_type": "stream",
          "text": [
            "UserWarning: The Dask Engine for Modin is experimental.\n",
            "FutureWarning: pandas.util.testing is deprecated. Use the functions in the public API at pandas.testing instead.\n",
            "FutureWarning: The sklearn.metrics.classification module is  deprecated in version 0.22 and will be removed in version 0.24. The corresponding classes / functions should instead be imported from sklearn.metrics. Anything that cannot be imported from sklearn.metrics is now part of the private API.\n"
          ],
          "name": "stderr"
        }
      ]
    },
    {
      "cell_type": "code",
      "metadata": {
        "id": "K2LYfUuwE3Ig",
        "colab_type": "code",
        "colab": {}
      },
      "source": [
        "FOLDER = '/content/drive/My Drive/codenation'\n",
        "\n",
        "market = pd.read_csv(os.path.join(FOLDER, 'estaticos_market.csv'), index_col='Unnamed: 0')\n",
        "portfolio1 = pd.read_csv(os.path.join(FOLDER, 'estaticos_portfolio1.csv'))\n",
        "portfolio2 = pd.read_csv(os.path.join(FOLDER, 'estaticos_portfolio2.csv'))\n",
        "portfolio3 = pd.read_csv(os.path.join(FOLDER, 'estaticos_portfolio3.csv'))"
      ],
      "execution_count": 4,
      "outputs": []
    },
    {
      "cell_type": "code",
      "metadata": {
        "id": "4bBlxcY7GYD-",
        "colab_type": "code",
        "colab": {}
      },
      "source": [
        "visualizer = Rank2D(algorithm=\"pearson\")\n",
        "visualizer.fit_transform(market)\n",
        "visualizer.show()"
      ],
      "execution_count": null,
      "outputs": []
    }
  ]
}