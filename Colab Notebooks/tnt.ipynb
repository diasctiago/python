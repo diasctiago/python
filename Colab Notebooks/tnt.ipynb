{
 "cells": [
  {
   "cell_type": "markdown",
   "metadata": {
    "colab_type": "text",
    "id": "3HsboTW9M_PR"
   },
   "source": [
    "**Autor:** __Tiago Dias__"
   ]
  },
  {
   "cell_type": "markdown",
   "metadata": {
    "colab_type": "text",
    "id": "xy6jgQiNZMZt"
   },
   "source": [
    "# Desafio 7 TNT"
   ]
  },
  {
   "cell_type": "markdown",
   "metadata": {
    "colab_type": "text",
    "id": "5Tc_rhhbDrTR"
   },
   "source": [
    "### Importando bibliotecas"
   ]
  },
  {
   "cell_type": "code",
   "execution_count": 4,
   "metadata": {
    "colab": {
     "base_uri": "https://localhost:8080/",
     "height": 34
    },
    "colab_type": "code",
    "executionInfo": {
     "elapsed": 3940,
     "status": "ok",
     "timestamp": 1599709357304,
     "user": {
      "displayName": "Tiago Dias",
      "photoUrl": "https://lh3.googleusercontent.com/a-/AOh14GiW4O_25wWQwVNJvj8cP-mYxouZ1TLUXKUrN-to2JQ=s64",
      "userId": "11325234452599299452"
     },
     "user_tz": 180
    },
    "id": "m2z5MjFVdfes",
    "outputId": "9af6738f-f900-46ef-f89b-b81d9210149f"
   },
   "outputs": [
    {
     "name": "stdout",
     "output_type": "stream",
     "text": [
      "Requirement already satisfied: paho-mqtt in /usr/local/lib/python3.6/dist-packages (1.5.0)\n"
     ]
    }
   ],
   "source": [
    "!pip install paho-mqtt"
   ]
  },
  {
   "cell_type": "code",
   "execution_count": 25,
   "metadata": {
    "colab": {},
    "colab_type": "code",
    "executionInfo": {
     "elapsed": 1685,
     "status": "ok",
     "timestamp": 1599748858928,
     "user": {
      "displayName": "Tiago Dias",
      "photoUrl": "https://lh3.googleusercontent.com/a-/AOh14GiW4O_25wWQwVNJvj8cP-mYxouZ1TLUXKUrN-to2JQ=s64",
      "userId": "11325234452599299452"
     },
     "user_tz": 180
    },
    "id": "hdfAc0M_dwiO"
   },
   "outputs": [],
   "source": [
    "import psycopg2\n",
    "import json\n",
    "import requests\n",
    "import pandas as pd\n",
    "import numpy as np\n",
    "import matplotlib.pyplot as plt\n",
    "import seaborn as sns\n",
    "from sklearn.preprocessing import LabelEncoder\n",
    "from sklearn.model_selection import train_test_split\n",
    "from sklearn.ensemble import RandomForestClassifier\n",
    "from sklearn.metrics import classification_report\n",
    "import matplotlib.cm as cm\n",
    "from time import time, gmtime"
   ]
  },
  {
   "cell_type": "markdown",
   "metadata": {
    "colab_type": "text",
    "id": "iXOtdtlaEIT0"
   },
   "source": [
    "### Extração de dados API"
   ]
  },
  {
   "cell_type": "code",
   "execution_count": 6,
   "metadata": {
    "colab": {},
    "colab_type": "code",
    "executionInfo": {
     "elapsed": 39102720,
     "status": "ok",
     "timestamp": 1599748456125,
     "user": {
      "displayName": "Tiago Dias",
      "photoUrl": "https://lh3.googleusercontent.com/a-/AOh14GiW4O_25wWQwVNJvj8cP-mYxouZ1TLUXKUrN-to2JQ=s64",
      "userId": "11325234452599299452"
     },
     "user_tz": 180
    },
    "id": "wDwkg52wasR9"
   },
   "outputs": [],
   "source": [
    "import paho.mqtt.subscribe as subscribe\n",
    "\n",
    "topics = ['tnt']\n",
    "HOST = 'HOST'\n",
    "PORT = 30573\n",
    "USERNAME = 'USERNAME'\n",
    "PASSWORD = 'PASSWORD'\n",
    "KEEPALIVE = 600\n",
    "\n",
    "msg = subscribe.simple(topics,\n",
    "                       msg_count=17000,\n",
    "                       hostname=HOST, \n",
    "                       port=PORT, \n",
    "                       auth={'username':USERNAME, 'password':PASSWORD})"
   ]
  },
  {
   "cell_type": "code",
   "execution_count": 7,
   "metadata": {
    "colab": {
     "base_uri": "https://localhost:8080/",
     "height": 34
    },
    "colab_type": "code",
    "executionInfo": {
     "elapsed": 39102712,
     "status": "ok",
     "timestamp": 1599748456138,
     "user": {
      "displayName": "Tiago Dias",
      "photoUrl": "https://lh3.googleusercontent.com/a-/AOh14GiW4O_25wWQwVNJvj8cP-mYxouZ1TLUXKUrN-to2JQ=s64",
      "userId": "11325234452599299452"
     },
     "user_tz": 180
    },
    "id": "VP-TQ-fgeR8N",
    "outputId": "0e4b11a2-7f22-4ad2-ad6b-46ff43ceacc6"
   },
   "outputs": [
    {
     "data": {
      "text/plain": [
       "17000"
      ]
     },
     "execution_count": 7,
     "metadata": {
      "tags": []
     },
     "output_type": "execute_result"
    }
   ],
   "source": [
    "len(msg)"
   ]
  },
  {
   "cell_type": "code",
   "execution_count": 8,
   "metadata": {
    "colab": {
     "base_uri": "https://localhost:8080/",
     "height": 54
    },
    "colab_type": "code",
    "executionInfo": {
     "elapsed": 39102690,
     "status": "ok",
     "timestamp": 1599748456139,
     "user": {
      "displayName": "Tiago Dias",
      "photoUrl": "https://lh3.googleusercontent.com/a-/AOh14GiW4O_25wWQwVNJvj8cP-mYxouZ1TLUXKUrN-to2JQ=s64",
      "userId": "11325234452599299452"
     },
     "user_tz": 180
    },
    "id": "_j4d2NWlc1fn",
    "outputId": "3654b343-48f4-4cf2-c8d5-ba5d8f54f08d"
   },
   "outputs": [
    {
     "data": {
      "text/plain": [
       "b'{\"Tempo\": \"2019-12-4\", \"Esta\\xc3\\xa7\\xc3\\xa3o\": \"Rep\\xc3\\xbablica\", \"LAT\": \"-23.5436\", \"LONG\": \"-46.6434\", \"Movimenta\\xc3\\xa7\\xc3\\xa3o\": \"110891\", \"Original_473\": \"52\", \"Original_269\": \"15\", \"Zero\": \"13\", \"Ma\\xc3\\xa7\\xc3\\xa3-Verde\": \"25\", \"Tangerina\": \"8\", \"Citrus\": \"6\", \"A\\xc3\\xa7a\\xc3\\xad-Guaran\\xc3\\xa1\": \"37\", \"P\\xc3\\xaassego\": \"34\", \"TARGET\": \"REABASTECER\", \"row\": 7174}'"
      ]
     },
     "execution_count": 8,
     "metadata": {
      "tags": []
     },
     "output_type": "execute_result"
    }
   ],
   "source": [
    "msg[0].payload"
   ]
  },
  {
   "cell_type": "code",
   "execution_count": 9,
   "metadata": {
    "colab": {
     "base_uri": "https://localhost:8080/",
     "height": 54
    },
    "colab_type": "code",
    "executionInfo": {
     "elapsed": 39102680,
     "status": "ok",
     "timestamp": 1599748456139,
     "user": {
      "displayName": "Tiago Dias",
      "photoUrl": "https://lh3.googleusercontent.com/a-/AOh14GiW4O_25wWQwVNJvj8cP-mYxouZ1TLUXKUrN-to2JQ=s64",
      "userId": "11325234452599299452"
     },
     "user_tz": 180
    },
    "id": "z-jWuKQ0czYn",
    "outputId": "004b8e9e-0613-4822-a937-6aadeeab32dc"
   },
   "outputs": [
    {
     "data": {
      "text/plain": [
       "b'{\"Tempo\": \"2019-5-23\", \"Esta\\xc3\\xa7\\xc3\\xa3o\": \"Ana Rosa\", \"LAT\": \"-23.5813\", \"LONG\": \"-46.6383\", \"Movimenta\\xc3\\xa7\\xc3\\xa3o\": \"64404\", \"Original_473\": \"86\", \"Original_269\": \"20\", \"Zero\": \"11\", \"Ma\\xc3\\xa7\\xc3\\xa3-Verde\": \"43\", \"Tangerina\": \"37\", \"Citrus\": \"8\", \"A\\xc3\\xa7a\\xc3\\xad-Guaran\\xc3\\xa1\": \"16\", \"P\\xc3\\xaassego\": \"12\", \"TARGET\": \"NORMAL\", \"row\": 12023}'"
      ]
     },
     "execution_count": 9,
     "metadata": {
      "tags": []
     },
     "output_type": "execute_result"
    }
   ],
   "source": [
    "msg[1].payload"
   ]
  },
  {
   "cell_type": "markdown",
   "metadata": {
    "colab_type": "text",
    "id": "GpgKLsGxEgw6"
   },
   "source": [
    "### Transformação dos dados"
   ]
  },
  {
   "cell_type": "code",
   "execution_count": 11,
   "metadata": {
    "colab": {},
    "colab_type": "code",
    "executionInfo": {
     "elapsed": 1774,
     "status": "ok",
     "timestamp": 1599748537916,
     "user": {
      "displayName": "Tiago Dias",
      "photoUrl": "https://lh3.googleusercontent.com/a-/AOh14GiW4O_25wWQwVNJvj8cP-mYxouZ1TLUXKUrN-to2JQ=s64",
      "userId": "11325234452599299452"
     },
     "user_tz": 180
    },
    "id": "l-p_b8Be1zB5"
   },
   "outputs": [],
   "source": [
    "import ast\n",
    "\n",
    "lista_dict = []\n",
    "\n",
    "for i in range((len(msg))):\n",
    "  dict_str = msg[i].payload.decode(\"UTF-8\")\n",
    "  mydata = ast.literal_eval(dict_str)\n",
    "  lista_dict.append(mydata)"
   ]
  },
  {
   "cell_type": "code",
   "execution_count": 12,
   "metadata": {
    "colab": {
     "base_uri": "https://localhost:8080/",
     "height": 34
    },
    "colab_type": "code",
    "executionInfo": {
     "elapsed": 951,
     "status": "ok",
     "timestamp": 1599748537919,
     "user": {
      "displayName": "Tiago Dias",
      "photoUrl": "https://lh3.googleusercontent.com/a-/AOh14GiW4O_25wWQwVNJvj8cP-mYxouZ1TLUXKUrN-to2JQ=s64",
      "userId": "11325234452599299452"
     },
     "user_tz": 180
    },
    "id": "T-3GU8ph1y4A",
    "outputId": "c744ba07-a8a6-470e-8eb3-b7229b647d19"
   },
   "outputs": [
    {
     "data": {
      "text/plain": [
       "(17000, 15)"
      ]
     },
     "execution_count": 12,
     "metadata": {
      "tags": []
     },
     "output_type": "execute_result"
    }
   ],
   "source": [
    "df = pd.DataFrame(data=lista_dict)\n",
    "df.shape"
   ]
  },
  {
   "cell_type": "code",
   "execution_count": 13,
   "metadata": {
    "colab": {},
    "colab_type": "code",
    "executionInfo": {
     "elapsed": 1527,
     "status": "ok",
     "timestamp": 1599748539403,
     "user": {
      "displayName": "Tiago Dias",
      "photoUrl": "https://lh3.googleusercontent.com/a-/AOh14GiW4O_25wWQwVNJvj8cP-mYxouZ1TLUXKUrN-to2JQ=s64",
      "userId": "11325234452599299452"
     },
     "user_tz": 180
    },
    "id": "77TK9AiU1_6N"
   },
   "outputs": [],
   "source": [
    "df.to_csv('datasetTNT.csv', index=False)"
   ]
  },
  {
   "cell_type": "markdown",
   "metadata": {
    "colab_type": "text",
    "id": "IDHvDEDlJddr"
   },
   "source": [
    "### Exploração dos dados"
   ]
  },
  {
   "cell_type": "code",
   "execution_count": 14,
   "metadata": {
    "colab": {
     "base_uri": "https://localhost:8080/",
     "height": 34
    },
    "colab_type": "code",
    "executionInfo": {
     "elapsed": 860,
     "status": "ok",
     "timestamp": 1599748754453,
     "user": {
      "displayName": "Tiago Dias",
      "photoUrl": "https://lh3.googleusercontent.com/a-/AOh14GiW4O_25wWQwVNJvj8cP-mYxouZ1TLUXKUrN-to2JQ=s64",
      "userId": "11325234452599299452"
     },
     "user_tz": 180
    },
    "id": "Y-trkfAcDFhr",
    "outputId": "cd016759-92ca-495a-d020-076545d7f598"
   },
   "outputs": [
    {
     "data": {
      "text/plain": [
       "(17000, 15)"
      ]
     },
     "execution_count": 14,
     "metadata": {
      "tags": []
     },
     "output_type": "execute_result"
    }
   ],
   "source": [
    "df.shape"
   ]
  },
  {
   "cell_type": "code",
   "execution_count": 15,
   "metadata": {
    "colab": {
     "base_uri": "https://localhost:8080/",
     "height": 391
    },
    "colab_type": "code",
    "executionInfo": {
     "elapsed": 970,
     "status": "ok",
     "timestamp": 1599748755219,
     "user": {
      "displayName": "Tiago Dias",
      "photoUrl": "https://lh3.googleusercontent.com/a-/AOh14GiW4O_25wWQwVNJvj8cP-mYxouZ1TLUXKUrN-to2JQ=s64",
      "userId": "11325234452599299452"
     },
     "user_tz": 180
    },
    "id": "MnBvrdbnDFf8",
    "outputId": "a7ded827-8c5f-4b32-9f0d-49045d0b4c38"
   },
   "outputs": [
    {
     "name": "stdout",
     "output_type": "stream",
     "text": [
      "<class 'pandas.core.frame.DataFrame'>\n",
      "RangeIndex: 17000 entries, 0 to 16999\n",
      "Data columns (total 15 columns):\n",
      " #   Column        Non-Null Count  Dtype \n",
      "---  ------        --------------  ----- \n",
      " 0   Tempo         17000 non-null  object\n",
      " 1   Estação       17000 non-null  object\n",
      " 2   LAT           17000 non-null  object\n",
      " 3   LONG          17000 non-null  object\n",
      " 4   Movimentação  17000 non-null  object\n",
      " 5   Original_473  17000 non-null  object\n",
      " 6   Original_269  17000 non-null  object\n",
      " 7   Zero          17000 non-null  object\n",
      " 8   Maçã-Verde    17000 non-null  object\n",
      " 9   Tangerina     17000 non-null  object\n",
      " 10  Citrus        17000 non-null  object\n",
      " 11  Açaí-Guaraná  17000 non-null  object\n",
      " 12  Pêssego       17000 non-null  object\n",
      " 13  TARGET        17000 non-null  object\n",
      " 14  row           17000 non-null  int64 \n",
      "dtypes: int64(1), object(14)\n",
      "memory usage: 1.9+ MB\n"
     ]
    }
   ],
   "source": [
    "df.info()"
   ]
  },
  {
   "cell_type": "code",
   "execution_count": 16,
   "metadata": {
    "colab": {
     "base_uri": "https://localhost:8080/",
     "height": 297
    },
    "colab_type": "code",
    "executionInfo": {
     "elapsed": 668,
     "status": "ok",
     "timestamp": 1599748755480,
     "user": {
      "displayName": "Tiago Dias",
      "photoUrl": "https://lh3.googleusercontent.com/a-/AOh14GiW4O_25wWQwVNJvj8cP-mYxouZ1TLUXKUrN-to2JQ=s64",
      "userId": "11325234452599299452"
     },
     "user_tz": 180
    },
    "id": "gO91Ppc2Jm63",
    "outputId": "e3762d11-78b8-4521-e133-b2fe1fe87f29"
   },
   "outputs": [
    {
     "data": {
      "text/html": [
       "<div>\n",
       "<style scoped>\n",
       "    .dataframe tbody tr th:only-of-type {\n",
       "        vertical-align: middle;\n",
       "    }\n",
       "\n",
       "    .dataframe tbody tr th {\n",
       "        vertical-align: top;\n",
       "    }\n",
       "\n",
       "    .dataframe thead th {\n",
       "        text-align: right;\n",
       "    }\n",
       "</style>\n",
       "<table border=\"1\" class=\"dataframe\">\n",
       "  <thead>\n",
       "    <tr style=\"text-align: right;\">\n",
       "      <th></th>\n",
       "      <th>row</th>\n",
       "    </tr>\n",
       "  </thead>\n",
       "  <tbody>\n",
       "    <tr>\n",
       "      <th>count</th>\n",
       "      <td>17000.000000</td>\n",
       "    </tr>\n",
       "    <tr>\n",
       "      <th>mean</th>\n",
       "      <td>8699.879235</td>\n",
       "    </tr>\n",
       "    <tr>\n",
       "      <th>std</th>\n",
       "      <td>4880.730049</td>\n",
       "    </tr>\n",
       "    <tr>\n",
       "      <th>min</th>\n",
       "      <td>1.000000</td>\n",
       "    </tr>\n",
       "    <tr>\n",
       "      <th>25%</th>\n",
       "      <td>4444.000000</td>\n",
       "    </tr>\n",
       "    <tr>\n",
       "      <th>50%</th>\n",
       "      <td>8933.500000</td>\n",
       "    </tr>\n",
       "    <tr>\n",
       "      <th>75%</th>\n",
       "      <td>12885.500000</td>\n",
       "    </tr>\n",
       "    <tr>\n",
       "      <th>max</th>\n",
       "      <td>17016.000000</td>\n",
       "    </tr>\n",
       "  </tbody>\n",
       "</table>\n",
       "</div>"
      ],
      "text/plain": [
       "                row\n",
       "count  17000.000000\n",
       "mean    8699.879235\n",
       "std     4880.730049\n",
       "min        1.000000\n",
       "25%     4444.000000\n",
       "50%     8933.500000\n",
       "75%    12885.500000\n",
       "max    17016.000000"
      ]
     },
     "execution_count": 16,
     "metadata": {
      "tags": []
     },
     "output_type": "execute_result"
    }
   ],
   "source": [
    "df.describe()"
   ]
  },
  {
   "cell_type": "code",
   "execution_count": 17,
   "metadata": {
    "colab": {
     "base_uri": "https://localhost:8080/",
     "height": 85
    },
    "colab_type": "code",
    "executionInfo": {
     "elapsed": 718,
     "status": "ok",
     "timestamp": 1599748788000,
     "user": {
      "displayName": "Tiago Dias",
      "photoUrl": "https://lh3.googleusercontent.com/a-/AOh14GiW4O_25wWQwVNJvj8cP-mYxouZ1TLUXKUrN-to2JQ=s64",
      "userId": "11325234452599299452"
     },
     "user_tz": 180
    },
    "id": "-nOD1mDNaiul",
    "outputId": "ab172f8c-d3b5-4316-d343-5cc010bef8b9"
   },
   "outputs": [
    {
     "data": {
      "text/plain": [
       "Index(['Tempo', 'Estação', 'LAT', 'LONG', 'Movimentação', 'Original_473',\n",
       "       'Original_269', 'Zero', 'Maçã-Verde', 'Tangerina', 'Citrus',\n",
       "       'Açaí-Guaraná', 'Pêssego', 'TARGET', 'row'],\n",
       "      dtype='object')"
      ]
     },
     "execution_count": 17,
     "metadata": {
      "tags": []
     },
     "output_type": "execute_result"
    }
   ],
   "source": [
    "df.columns"
   ]
  },
  {
   "cell_type": "code",
   "execution_count": 18,
   "metadata": {
    "colab": {},
    "colab_type": "code",
    "executionInfo": {
     "elapsed": 693,
     "status": "ok",
     "timestamp": 1599748796176,
     "user": {
      "displayName": "Tiago Dias",
      "photoUrl": "https://lh3.googleusercontent.com/a-/AOh14GiW4O_25wWQwVNJvj8cP-mYxouZ1TLUXKUrN-to2JQ=s64",
      "userId": "11325234452599299452"
     },
     "user_tz": 180
    },
    "id": "VjeMjAA0wwry"
   },
   "outputs": [],
   "source": [
    "todas_colunas = list(df.columns)\n",
    "colunas_int = ['Original_473','Original_269','Zero','Maçã-Verde','Tangerina','Citrus','Açaí-Guaraná','Pêssego']"
   ]
  },
  {
   "cell_type": "code",
   "execution_count": 20,
   "metadata": {
    "colab": {},
    "colab_type": "code",
    "executionInfo": {
     "elapsed": 1214,
     "status": "ok",
     "timestamp": 1599748825403,
     "user": {
      "displayName": "Tiago Dias",
      "photoUrl": "https://lh3.googleusercontent.com/a-/AOh14GiW4O_25wWQwVNJvj8cP-mYxouZ1TLUXKUrN-to2JQ=s64",
      "userId": "11325234452599299452"
     },
     "user_tz": 180
    },
    "id": "SyRrsCY9aCd0"
   },
   "outputs": [],
   "source": [
    "df2 = df.copy()\n",
    "\n",
    "for col in todas_colunas:\n",
    "  if col in colunas_int:\n",
    "    df2[col] = pd.to_numeric(df[col], downcast='integer')\n",
    "  else:\n",
    "    df2[col] = df[col].copy()"
   ]
  },
  {
   "cell_type": "code",
   "execution_count": 21,
   "metadata": {
    "colab": {
     "base_uri": "https://localhost:8080/",
     "height": 391
    },
    "colab_type": "code",
    "executionInfo": {
     "elapsed": 1018,
     "status": "ok",
     "timestamp": 1599748825843,
     "user": {
      "displayName": "Tiago Dias",
      "photoUrl": "https://lh3.googleusercontent.com/a-/AOh14GiW4O_25wWQwVNJvj8cP-mYxouZ1TLUXKUrN-to2JQ=s64",
      "userId": "11325234452599299452"
     },
     "user_tz": 180
    },
    "id": "n2T4vfFadYrW",
    "outputId": "e77d47dc-89f1-481c-aac2-c2f0a7a0862b"
   },
   "outputs": [
    {
     "name": "stdout",
     "output_type": "stream",
     "text": [
      "<class 'pandas.core.frame.DataFrame'>\n",
      "RangeIndex: 17000 entries, 0 to 16999\n",
      "Data columns (total 15 columns):\n",
      " #   Column        Non-Null Count  Dtype \n",
      "---  ------        --------------  ----- \n",
      " 0   Tempo         17000 non-null  object\n",
      " 1   Estação       17000 non-null  object\n",
      " 2   LAT           17000 non-null  object\n",
      " 3   LONG          17000 non-null  object\n",
      " 4   Movimentação  17000 non-null  object\n",
      " 5   Original_473  17000 non-null  int8  \n",
      " 6   Original_269  17000 non-null  int8  \n",
      " 7   Zero          17000 non-null  int8  \n",
      " 8   Maçã-Verde    17000 non-null  int8  \n",
      " 9   Tangerina     17000 non-null  int8  \n",
      " 10  Citrus        17000 non-null  int8  \n",
      " 11  Açaí-Guaraná  17000 non-null  int8  \n",
      " 12  Pêssego       17000 non-null  int8  \n",
      " 13  TARGET        17000 non-null  object\n",
      " 14  row           17000 non-null  int64 \n",
      "dtypes: int64(1), int8(8), object(6)\n",
      "memory usage: 1.0+ MB\n"
     ]
    }
   ],
   "source": [
    "df2.info()"
   ]
  },
  {
   "cell_type": "code",
   "execution_count": 22,
   "metadata": {
    "colab": {
     "base_uri": "https://localhost:8080/",
     "height": 459
    },
    "colab_type": "code",
    "executionInfo": {
     "elapsed": 1369,
     "status": "ok",
     "timestamp": 1599748827016,
     "user": {
      "displayName": "Tiago Dias",
      "photoUrl": "https://lh3.googleusercontent.com/a-/AOh14GiW4O_25wWQwVNJvj8cP-mYxouZ1TLUXKUrN-to2JQ=s64",
      "userId": "11325234452599299452"
     },
     "user_tz": 180
    },
    "id": "Xg5RJxeodYy3",
    "outputId": "1bfd2b51-90a7-4ccc-bf40-740602e4426d"
   },
   "outputs": [
    {
     "data": {
      "text/plain": [
       "São Judas                 793\n",
       "Luz                       790\n",
       "Butantã                   785\n",
       "Fradique Coutinho         779\n",
       "Ana Rosa                  778\n",
       "Brooklin                  766\n",
       "Campo Belo                764\n",
       "São Joaquim               764\n",
       "Higienópolis-Mackenzie    738\n",
       "Vila Mariana              729\n",
       "Faria Lima                717\n",
       "Pinheiros                 715\n",
       "Consolação                701\n",
       "República                 700\n",
       "Sé                        699\n",
       "Eucaliptos                689\n",
       "Brigadeiro                688\n",
       "Paraíso                   686\n",
       "Trianon-Masp              686\n",
       "Tamanduateí               677\n",
       "Brás                      677\n",
       "Tatuapé                   622\n",
       "Barra Funda               621\n",
       "Moema                     318\n",
       "Hospital São Paulo        118\n",
       "Name: Estação, dtype: int64"
      ]
     },
     "execution_count": 22,
     "metadata": {
      "tags": []
     },
     "output_type": "execute_result"
    }
   ],
   "source": [
    "df2['Estação'].value_counts()"
   ]
  },
  {
   "cell_type": "code",
   "execution_count": 23,
   "metadata": {
    "colab": {
     "base_uri": "https://localhost:8080/",
     "height": 221
    },
    "colab_type": "code",
    "executionInfo": {
     "elapsed": 820,
     "status": "ok",
     "timestamp": 1599748827843,
     "user": {
      "displayName": "Tiago Dias",
      "photoUrl": "https://lh3.googleusercontent.com/a-/AOh14GiW4O_25wWQwVNJvj8cP-mYxouZ1TLUXKUrN-to2JQ=s64",
      "userId": "11325234452599299452"
     },
     "user_tz": 180
    },
    "id": "FlaFL3OidY1v",
    "outputId": "2699cb02-fbd8-4342-adca-4c5918464d95"
   },
   "outputs": [
    {
     "data": {
      "text/plain": [
       "64459    7\n",
       "22921    7\n",
       "24568    7\n",
       "35332    7\n",
       "23733    7\n",
       "        ..\n",
       "46601    1\n",
       "67085    1\n",
       "23277    1\n",
       "66049    1\n",
       "29196    1\n",
       "Name: Movimentação, Length: 9934, dtype: int64"
      ]
     },
     "execution_count": 23,
     "metadata": {
      "tags": []
     },
     "output_type": "execute_result"
    }
   ],
   "source": [
    "df2['Movimentação'].value_counts()"
   ]
  },
  {
   "cell_type": "code",
   "execution_count": 24,
   "metadata": {
    "colab": {
     "base_uri": "https://localhost:8080/",
     "height": 68
    },
    "colab_type": "code",
    "executionInfo": {
     "elapsed": 633,
     "status": "ok",
     "timestamp": 1599748828290,
     "user": {
      "displayName": "Tiago Dias",
      "photoUrl": "https://lh3.googleusercontent.com/a-/AOh14GiW4O_25wWQwVNJvj8cP-mYxouZ1TLUXKUrN-to2JQ=s64",
      "userId": "11325234452599299452"
     },
     "user_tz": 180
    },
    "id": "kbWk663gdY4S",
    "outputId": "cf282a51-dbd8-4662-fea3-b2c9aa23cad4"
   },
   "outputs": [
    {
     "data": {
      "text/plain": [
       "NORMAL         11535\n",
       "REABASTECER     5465\n",
       "Name: TARGET, dtype: int64"
      ]
     },
     "execution_count": 24,
     "metadata": {
      "tags": []
     },
     "output_type": "execute_result"
    }
   ],
   "source": [
    "df2['TARGET'].value_counts()"
   ]
  },
  {
   "cell_type": "code",
   "execution_count": 26,
   "metadata": {
    "colab": {},
    "colab_type": "code",
    "executionInfo": {
     "elapsed": 720,
     "status": "ok",
     "timestamp": 1599748861637,
     "user": {
      "displayName": "Tiago Dias",
      "photoUrl": "https://lh3.googleusercontent.com/a-/AOh14GiW4O_25wWQwVNJvj8cP-mYxouZ1TLUXKUrN-to2JQ=s64",
      "userId": "11325234452599299452"
     },
     "user_tz": 180
    },
    "id": "e4y1iYZEdY63"
   },
   "outputs": [],
   "source": [
    "le = LabelEncoder()\n",
    "df2['Estação'] = le.fit_transform(df2['Estação'])"
   ]
  },
  {
   "cell_type": "code",
   "execution_count": 27,
   "metadata": {
    "colab": {},
    "colab_type": "code",
    "executionInfo": {
     "elapsed": 1074,
     "status": "ok",
     "timestamp": 1599748873192,
     "user": {
      "displayName": "Tiago Dias",
      "photoUrl": "https://lh3.googleusercontent.com/a-/AOh14GiW4O_25wWQwVNJvj8cP-mYxouZ1TLUXKUrN-to2JQ=s64",
      "userId": "11325234452599299452"
     },
     "user_tz": 180
    },
    "id": "kLcQvLV5dY9Z"
   },
   "outputs": [],
   "source": [
    "features = ['Estação','Original_473','Original_269','Zero','Maçã-Verde','Tangerina','Citrus','Açaí-Guaraná','Pêssego']"
   ]
  },
  {
   "cell_type": "code",
   "execution_count": 28,
   "metadata": {
    "colab": {},
    "colab_type": "code",
    "executionInfo": {
     "elapsed": 989,
     "status": "ok",
     "timestamp": 1599748881069,
     "user": {
      "displayName": "Tiago Dias",
      "photoUrl": "https://lh3.googleusercontent.com/a-/AOh14GiW4O_25wWQwVNJvj8cP-mYxouZ1TLUXKUrN-to2JQ=s64",
      "userId": "11325234452599299452"
     },
     "user_tz": 180
    },
    "id": "4DaIkaq2dZAk"
   },
   "outputs": [],
   "source": [
    "X = df2[features]\n",
    "y = df2.TARGET"
   ]
  },
  {
   "cell_type": "code",
   "execution_count": 29,
   "metadata": {
    "colab": {},
    "colab_type": "code",
    "executionInfo": {
     "elapsed": 698,
     "status": "ok",
     "timestamp": 1599748904170,
     "user": {
      "displayName": "Tiago Dias",
      "photoUrl": "https://lh3.googleusercontent.com/a-/AOh14GiW4O_25wWQwVNJvj8cP-mYxouZ1TLUXKUrN-to2JQ=s64",
      "userId": "11325234452599299452"
     },
     "user_tz": 180
    },
    "id": "9ZgCgEIydZDM"
   },
   "outputs": [],
   "source": [
    "X_train, X_test, y_train, y_test = train_test_split(X, y, test_size=0.20, random_state=42)"
   ]
  },
  {
   "cell_type": "code",
   "execution_count": 36,
   "metadata": {
    "colab": {
     "base_uri": "https://localhost:8080/",
     "height": 153
    },
    "colab_type": "code",
    "executionInfo": {
     "elapsed": 5520,
     "status": "ok",
     "timestamp": 1599748980373,
     "user": {
      "displayName": "Tiago Dias",
      "photoUrl": "https://lh3.googleusercontent.com/a-/AOh14GiW4O_25wWQwVNJvj8cP-mYxouZ1TLUXKUrN-to2JQ=s64",
      "userId": "11325234452599299452"
     },
     "user_tz": 180
    },
    "id": "bY9ItnNDdtDk",
    "outputId": "00979f4e-4591-48b6-ddd3-6250072f9096"
   },
   "outputs": [
    {
     "data": {
      "text/plain": [
       "RandomForestClassifier(bootstrap=True, ccp_alpha=0.0, class_weight=None,\n",
       "                       criterion='gini', max_depth=None, max_features='auto',\n",
       "                       max_leaf_nodes=None, max_samples=None,\n",
       "                       min_impurity_decrease=0.0, min_impurity_split=None,\n",
       "                       min_samples_leaf=1, min_samples_split=2,\n",
       "                       min_weight_fraction_leaf=0.0, n_estimators=200,\n",
       "                       n_jobs=None, oob_score=False, random_state=None,\n",
       "                       verbose=0, warm_start=False)"
      ]
     },
     "execution_count": 36,
     "metadata": {
      "tags": []
     },
     "output_type": "execute_result"
    }
   ],
   "source": [
    "clf = RandomForestClassifier(n_estimators=200)\n",
    "clf.fit(X_train, y_train)"
   ]
  },
  {
   "cell_type": "code",
   "execution_count": 37,
   "metadata": {
    "colab": {},
    "colab_type": "code",
    "executionInfo": {
     "elapsed": 4370,
     "status": "ok",
     "timestamp": 1599748980375,
     "user": {
      "displayName": "Tiago Dias",
      "photoUrl": "https://lh3.googleusercontent.com/a-/AOh14GiW4O_25wWQwVNJvj8cP-mYxouZ1TLUXKUrN-to2JQ=s64",
      "userId": "11325234452599299452"
     },
     "user_tz": 180
    },
    "id": "LR-eIIV2dtGg"
   },
   "outputs": [],
   "source": [
    "y_pred = clf.predict(X_test)"
   ]
  },
  {
   "cell_type": "code",
   "execution_count": 38,
   "metadata": {
    "colab": {
     "base_uri": "https://localhost:8080/",
     "height": 170
    },
    "colab_type": "code",
    "executionInfo": {
     "elapsed": 4041,
     "status": "ok",
     "timestamp": 1599748980646,
     "user": {
      "displayName": "Tiago Dias",
      "photoUrl": "https://lh3.googleusercontent.com/a-/AOh14GiW4O_25wWQwVNJvj8cP-mYxouZ1TLUXKUrN-to2JQ=s64",
      "userId": "11325234452599299452"
     },
     "user_tz": 180
    },
    "id": "g_oyb1kpdtL7",
    "outputId": "6da0badc-facc-4772-8c00-75c0e1eb4d92"
   },
   "outputs": [
    {
     "name": "stdout",
     "output_type": "stream",
     "text": [
      "              precision    recall  f1-score   support\n",
      "\n",
      "      NORMAL       0.95      0.89      0.92      2289\n",
      " REABASTECER       0.79      0.90      0.85      1111\n",
      "\n",
      "    accuracy                           0.89      3400\n",
      "   macro avg       0.87      0.90      0.88      3400\n",
      "weighted avg       0.90      0.89      0.89      3400\n",
      "\n"
     ]
    }
   ],
   "source": [
    "print(classification_report(y_test, y_pred))"
   ]
  },
  {
   "cell_type": "code",
   "execution_count": null,
   "metadata": {
    "colab": {},
    "colab_type": "code",
    "id": "dUwZXmcydtOp"
   },
   "outputs": [],
   "source": []
  },
  {
   "cell_type": "code",
   "execution_count": null,
   "metadata": {
    "colab": {},
    "colab_type": "code",
    "id": "xCIPrpWbdtRQ"
   },
   "outputs": [],
   "source": []
  },
  {
   "cell_type": "code",
   "execution_count": null,
   "metadata": {
    "colab": {},
    "colab_type": "code",
    "id": "-rIZeUiRdtVG"
   },
   "outputs": [],
   "source": []
  },
  {
   "cell_type": "code",
   "execution_count": null,
   "metadata": {
    "colab": {},
    "colab_type": "code",
    "id": "JzDDWK8tdtJ1"
   },
   "outputs": [],
   "source": []
  }
 ],
 "metadata": {
  "colab": {
   "collapsed_sections": [],
   "name": "tnt.ipynb",
   "provenance": [],
   "toc_visible": true
  },
  "kernelspec": {
   "display_name": "Python 3 (ipykernel)",
   "language": "python",
   "name": "python3"
  },
  "language_info": {
   "codemirror_mode": {
    "name": "ipython",
    "version": 3
   },
   "file_extension": ".py",
   "mimetype": "text/x-python",
   "name": "python",
   "nbconvert_exporter": "python",
   "pygments_lexer": "ipython3",
   "version": "3.9.12"
  }
 },
 "nbformat": 4,
 "nbformat_minor": 1
}
