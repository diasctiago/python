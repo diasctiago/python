{
 "cells": [
  {
   "cell_type": "markdown",
   "metadata": {
    "colab_type": "text",
    "id": "3HsboTW9M_PR"
   },
   "source": [
    "**Autor:** __Tiago Dias__"
   ]
  },
  {
   "cell_type": "markdown",
   "metadata": {
    "colab_type": "text",
    "id": "xy6jgQiNZMZt"
   },
   "source": [
    "# Desafio 7 TNT"
   ]
  },
  {
   "cell_type": "markdown",
   "metadata": {
    "colab_type": "text",
    "id": "5Tc_rhhbDrTR"
   },
   "source": [
    "### Importando bibliotecas"
   ]
  },
  {
   "cell_type": "code",
   "execution_count": 3,
   "metadata": {
    "colab": {
     "base_uri": "https://localhost:8080/",
     "height": 207
    },
    "colab_type": "code",
    "executionInfo": {
     "elapsed": 5356,
     "status": "ok",
     "timestamp": 1599731350162,
     "user": {
      "displayName": "Tiago Dias",
      "photoUrl": "https://lh3.googleusercontent.com/a-/AOh14GiW4O_25wWQwVNJvj8cP-mYxouZ1TLUXKUrN-to2JQ=s64",
      "userId": "11325234452599299452"
     },
     "user_tz": 180
    },
    "id": "m2z5MjFVdfes",
    "outputId": "96659c54-0d57-4490-80f0-90931f95b960"
   },
   "outputs": [
    {
     "name": "stdout",
     "output_type": "stream",
     "text": [
      "Collecting paho-mqtt\n",
      "\u001b[?25l  Downloading https://files.pythonhosted.org/packages/59/11/1dd5c70f0f27a88a3a05772cd95f6087ac479fac66d9c7752ee5e16ddbbc/paho-mqtt-1.5.0.tar.gz (99kB)\n",
      "\r",
      "\u001b[K     |███▎                            | 10kB 15.7MB/s eta 0:00:01\r",
      "\u001b[K     |██████▋                         | 20kB 3.1MB/s eta 0:00:01\r",
      "\u001b[K     |█████████▉                      | 30kB 3.9MB/s eta 0:00:01\r",
      "\u001b[K     |█████████████▏                  | 40kB 4.5MB/s eta 0:00:01\r",
      "\u001b[K     |████████████████▌               | 51kB 3.6MB/s eta 0:00:01\r",
      "\u001b[K     |███████████████████▊            | 61kB 3.8MB/s eta 0:00:01\r",
      "\u001b[K     |███████████████████████         | 71kB 4.3MB/s eta 0:00:01\r",
      "\u001b[K     |██████████████████████████▍     | 81kB 4.6MB/s eta 0:00:01\r",
      "\u001b[K     |█████████████████████████████▋  | 92kB 4.8MB/s eta 0:00:01\r",
      "\u001b[K     |████████████████████████████████| 102kB 3.5MB/s \n",
      "\u001b[?25hBuilding wheels for collected packages: paho-mqtt\n",
      "  Building wheel for paho-mqtt (setup.py) ... \u001b[?25l\u001b[?25hdone\n",
      "  Created wheel for paho-mqtt: filename=paho_mqtt-1.5.0-cp36-none-any.whl size=61415 sha256=4378eb4b50875c1e187de8f137a28db436c404f2967e8f6b66a19fffaf9bb5fc\n",
      "  Stored in directory: /root/.cache/pip/wheels/02/94/6c/8474137cb7a5a3e001d70a22c8ff919caee69435376bccce79\n",
      "Successfully built paho-mqtt\n",
      "Installing collected packages: paho-mqtt\n",
      "Successfully installed paho-mqtt-1.5.0\n"
     ]
    }
   ],
   "source": [
    "!pip install paho-mqtt"
   ]
  },
  {
   "cell_type": "code",
   "execution_count": 4,
   "metadata": {
    "colab": {
     "base_uri": "https://localhost:8080/",
     "height": 71
    },
    "colab_type": "code",
    "executionInfo": {
     "elapsed": 6067,
     "status": "ok",
     "timestamp": 1599731350887,
     "user": {
      "displayName": "Tiago Dias",
      "photoUrl": "https://lh3.googleusercontent.com/a-/AOh14GiW4O_25wWQwVNJvj8cP-mYxouZ1TLUXKUrN-to2JQ=s64",
      "userId": "11325234452599299452"
     },
     "user_tz": 180
    },
    "id": "hdfAc0M_dwiO",
    "outputId": "a0e4388c-fcc4-494f-f4f4-a5c1954d4248"
   },
   "outputs": [
    {
     "name": "stderr",
     "output_type": "stream",
     "text": [
      "/usr/local/lib/python3.6/dist-packages/statsmodels/tools/_testing.py:19: FutureWarning: pandas.util.testing is deprecated. Use the functions in the public API at pandas.testing instead.\n",
      "  import pandas.util.testing as tm\n"
     ]
    }
   ],
   "source": [
    "import json\n",
    "import pandas as pd\n",
    "import numpy as np\n",
    "import matplotlib.pyplot as plt\n",
    "import seaborn as sns\n",
    "from sklearn.preprocessing import LabelEncoder\n",
    "from sklearn.model_selection import train_test_split\n",
    "from sklearn.ensemble import RandomForestClassifier\n",
    "from sklearn.metrics import classification_report\n",
    "from time import time, gmtime\n"
   ]
  },
  {
   "cell_type": "markdown",
   "metadata": {
    "colab_type": "text",
    "id": "iXOtdtlaEIT0"
   },
   "source": [
    "### Extração de dados API"
   ]
  },
  {
   "cell_type": "code",
   "execution_count": null,
   "metadata": {
    "colab": {},
    "colab_type": "code",
    "id": "wDwkg52wasR9"
   },
   "outputs": [],
   "source": [
    "import paho.mqtt.subscribe as subscribe\n",
    "\n",
    "topics = ['tnt']\n",
    "HOST = 'HOST'\n",
    "PORT = 30573\n",
    "USERNAME = 'USERNAME'\n",
    "PASSWORD = 'PASSWORD'\n",
    "KEEPALIVE = 600\n",
    "\n",
    "msg = subscribe.simple(topics,\n",
    "                       msg_count=17016,\n",
    "                       hostname=HOST, \n",
    "                       port=PORT, \n",
    "                       auth={'username':USERNAME, 'password':PASSWORD})"
   ]
  },
  {
   "cell_type": "code",
   "execution_count": null,
   "metadata": {
    "colab": {},
    "colab_type": "code",
    "id": "VP-TQ-fgeR8N"
   },
   "outputs": [],
   "source": [
    "len(msg)"
   ]
  },
  {
   "cell_type": "code",
   "execution_count": null,
   "metadata": {
    "colab": {},
    "colab_type": "code",
    "id": "CNWLitxGtoNe"
   },
   "outputs": [],
   "source": [
    "import ast\n",
    "\n",
    "lista_dict = []\n",
    "\n",
    "for i in range((len(msg))):\n",
    "  dict_str = msg[i].payload.decode(\"UTF-8\")\n",
    "  mydata = ast.literal_eval(dict_str)\n",
    "  lista_dict.append(mydata)"
   ]
  },
  {
   "cell_type": "code",
   "execution_count": null,
   "metadata": {
    "colab": {},
    "colab_type": "code",
    "id": "_j4d2NWlc1fn"
   },
   "outputs": [],
   "source": [
    "df = pd.DataFrame(data=lista_dict)\n",
    "df.shape"
   ]
  },
  {
   "cell_type": "code",
   "execution_count": null,
   "metadata": {
    "colab": {},
    "colab_type": "code",
    "id": "z-jWuKQ0czYn"
   },
   "outputs": [],
   "source": [
    "df.head(2)"
   ]
  },
  {
   "cell_type": "markdown",
   "metadata": {
    "colab_type": "text",
    "id": "IDHvDEDlJddr"
   },
   "source": [
    "### Exploração dos dados"
   ]
  },
  {
   "cell_type": "code",
   "execution_count": null,
   "metadata": {
    "colab": {},
    "colab_type": "code",
    "id": "Y-trkfAcDFhr"
   },
   "outputs": [],
   "source": [
    "df.shape"
   ]
  },
  {
   "cell_type": "code",
   "execution_count": null,
   "metadata": {
    "colab": {},
    "colab_type": "code",
    "id": "MnBvrdbnDFf8"
   },
   "outputs": [],
   "source": [
    "df.info()"
   ]
  },
  {
   "cell_type": "code",
   "execution_count": null,
   "metadata": {
    "colab": {},
    "colab_type": "code",
    "id": "wRF0hBydNCzR"
   },
   "outputs": [],
   "source": [
    "df.columns"
   ]
  },
  {
   "cell_type": "code",
   "execution_count": null,
   "metadata": {
    "colab": {},
    "colab_type": "code",
    "id": "xySmlcgpMBJj"
   },
   "outputs": [],
   "source": [
    "todas_colunas = list(df.columns)\n",
    "colunas_int = ['Original_473','Original_269','Zero','Maçã-Verde','Tangerina','Citrus','Açaí-Guaraná','Pêssego']"
   ]
  },
  {
   "cell_type": "code",
   "execution_count": null,
   "metadata": {
    "colab": {},
    "colab_type": "code",
    "id": "vZqXOjO6J3DE"
   },
   "outputs": [],
   "source": [
    "df2 = df.copy()\n",
    "\n",
    "for col in todas_colunas:\n",
    "  if col in colunas_int:\n",
    "    df2[col] = pd.to_numeric(df[col], downcast='integer')\n",
    "  else:\n",
    "    df2[col] = df[col].copy()"
   ]
  },
  {
   "cell_type": "code",
   "execution_count": null,
   "metadata": {
    "colab": {},
    "colab_type": "code",
    "id": "gO91Ppc2Jm63"
   },
   "outputs": [],
   "source": [
    "df2.info()"
   ]
  },
  {
   "cell_type": "code",
   "execution_count": null,
   "metadata": {
    "colab": {},
    "colab_type": "code",
    "id": "gdpDD3v6OXPl"
   },
   "outputs": [],
   "source": [
    "df2['Estação'].value_counts()"
   ]
  },
  {
   "cell_type": "code",
   "execution_count": null,
   "metadata": {
    "colab": {},
    "colab_type": "code",
    "id": "Njp9YM-bOiM8"
   },
   "outputs": [],
   "source": [
    "df2['Movimentação'].value_counts()"
   ]
  },
  {
   "cell_type": "code",
   "execution_count": null,
   "metadata": {
    "colab": {},
    "colab_type": "code",
    "id": "NK0ZcMOBOlTd"
   },
   "outputs": [],
   "source": [
    "df2['TARGET'].value_counts()"
   ]
  },
  {
   "cell_type": "markdown",
   "metadata": {
    "colab_type": "text",
    "id": "iHhtayHTPQVP"
   },
   "source": [
    "### Pré processamento"
   ]
  },
  {
   "cell_type": "code",
   "execution_count": null,
   "metadata": {
    "colab": {},
    "colab_type": "code",
    "id": "BQcA57taPURJ"
   },
   "outputs": [],
   "source": [
    "le = LabelEncoder()\n",
    "df2['Estação'] = le.fit_transform(df2['Estação'])"
   ]
  },
  {
   "cell_type": "code",
   "execution_count": null,
   "metadata": {
    "colab": {},
    "colab_type": "code",
    "id": "HIeNSm_DPT5s"
   },
   "outputs": [],
   "source": []
  },
  {
   "cell_type": "markdown",
   "metadata": {
    "colab_type": "text",
    "id": "90lTjt6_O4u0"
   },
   "source": [
    "### Modelo"
   ]
  },
  {
   "cell_type": "code",
   "execution_count": null,
   "metadata": {
    "colab": {},
    "colab_type": "code",
    "id": "vk4iHLLePCrQ"
   },
   "outputs": [],
   "source": [
    "features = ['Estação','Original_473','Original_269','Zero','Maçã-Verde','Tangerina','Citrus','Açaí-Guaraná','Pêssego']\n"
   ]
  },
  {
   "cell_type": "code",
   "execution_count": null,
   "metadata": {
    "colab": {},
    "colab_type": "code",
    "id": "LeouKQ8mO78i"
   },
   "outputs": [],
   "source": [
    "X = df2[features]\n",
    "y = df2.TARGET"
   ]
  },
  {
   "cell_type": "code",
   "execution_count": null,
   "metadata": {
    "colab": {},
    "colab_type": "code",
    "id": "UtU2RGn2O8CA"
   },
   "outputs": [],
   "source": [
    "X_train, X_test, y_train, y_test = train_test_split(X, y, test_size=0.20, random_state=42)"
   ]
  },
  {
   "cell_type": "code",
   "execution_count": null,
   "metadata": {
    "colab": {},
    "colab_type": "code",
    "id": "vbW4JyaUO7_K"
   },
   "outputs": [],
   "source": []
  },
  {
   "cell_type": "code",
   "execution_count": null,
   "metadata": {
    "colab": {},
    "colab_type": "code",
    "id": "jrw1ircQO7pH"
   },
   "outputs": [],
   "source": [
    "clf = RandomForestClassifier()\n",
    "clf.fit(X_train, y_train)"
   ]
  },
  {
   "cell_type": "code",
   "execution_count": null,
   "metadata": {
    "colab": {},
    "colab_type": "code",
    "id": "-gVgdy9fQX00"
   },
   "outputs": [],
   "source": [
    "y_pred = clf.predict(X_test)"
   ]
  },
  {
   "cell_type": "code",
   "execution_count": null,
   "metadata": {
    "colab": {},
    "colab_type": "code",
    "id": "wtJ_rfWEQjK5"
   },
   "outputs": [],
   "source": [
    "print(classification_report(y_test, y_pred))"
   ]
  },
  {
   "cell_type": "markdown",
   "metadata": {
    "colab_type": "text",
    "id": "nxUduaIoLMFv"
   },
   "source": [
    "### Exportando csv"
   ]
  },
  {
   "cell_type": "code",
   "execution_count": null,
   "metadata": {
    "colab": {},
    "colab_type": "code",
    "id": "foK4uU9e2jNs"
   },
   "outputs": [],
   "source": [
    "df.to_csv('datasetTNT.csv', index=False)"
   ]
  }
 ],
 "metadata": {
  "colab": {
   "collapsed_sections": [],
   "name": "tnt2.ipynb",
   "provenance": [],
   "toc_visible": true
  },
  "kernelspec": {
   "display_name": "Python 3 (ipykernel)",
   "language": "python",
   "name": "python3"
  },
  "language_info": {
   "codemirror_mode": {
    "name": "ipython",
    "version": 3
   },
   "file_extension": ".py",
   "mimetype": "text/x-python",
   "name": "python",
   "nbconvert_exporter": "python",
   "pygments_lexer": "ipython3",
   "version": "3.9.12"
  }
 },
 "nbformat": 4,
 "nbformat_minor": 1
}
