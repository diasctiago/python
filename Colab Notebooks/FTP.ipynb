{
 "cells": [
  {
   "cell_type": "code",
   "execution_count": null,
   "metadata": {
    "colab": {
     "base_uri": "https://localhost:8080/"
    },
    "executionInfo": {
     "elapsed": 7562,
     "status": "ok",
     "timestamp": 1637854485371,
     "user": {
      "displayName": "Tiago Dias",
      "photoUrl": "https://lh3.googleusercontent.com/a-/AOh14GiW4O_25wWQwVNJvj8cP-mYxouZ1TLUXKUrN-to2JQ=s64",
      "userId": "11325234452599299452"
     },
     "user_tz": 180
    },
    "id": "gyjbII4Lsf-R",
    "outputId": "71044acd-4ff4-4a76-b108-7a278cdb3046"
   },
   "outputs": [],
   "source": [
    "!pip install pysftp"
   ]
  },
  {
   "cell_type": "code",
   "execution_count": null,
   "metadata": {
    "executionInfo": {
     "elapsed": 8,
     "status": "ok",
     "timestamp": 1637854485372,
     "user": {
      "displayName": "Tiago Dias",
      "photoUrl": "https://lh3.googleusercontent.com/a-/AOh14GiW4O_25wWQwVNJvj8cP-mYxouZ1TLUXKUrN-to2JQ=s64",
      "userId": "11325234452599299452"
     },
     "user_tz": 180
    },
    "id": "yYzXtMZisf2k"
   },
   "outputs": [],
   "source": [
    "import csv\n",
    "import json\n",
    "import pysftp\n",
    "import re\n",
    "import os\n",
    "import sys\n",
    "import time\n",
    "from datetime import datetime"
   ]
  },
  {
   "cell_type": "code",
   "execution_count": null,
   "metadata": {
    "id": "__qHt8yDz3N0"
   },
   "outputs": [],
   "source": [
    "def SFTPConnect(file,SFTPDir):\n",
    "\n",
    "    try:\n",
    "        counter = 0\n",
    "        try_times = 10\n",
    "        new_try = True\n",
    "        flagDel = False\n",
    "        conn = 'conn'\n",
    "        user = 'user'\n",
    "        pwd = 'pwd'\n",
    "        \n",
    "        #tenta efetuar a conexão com o SFTP durante 10 tentativas\n",
    "        while counter < try_times and new_try:\n",
    "            try:\n",
    "                print('Estabelecendo Conexão...: ')\n",
    "                cnopts = pysftp.CnOpts()\n",
    "                cnopts.hostkeys = None        \n",
    "                sftp = pysftp.Connection(host=conn, username=user, password=pwd, cnopts=cnopts) \n",
    "                new_try = False         \n",
    "                print('Conexão Estabelecida!')\n",
    "            except Exception as e:\n",
    "                print('Erro ao tentar efetuar conexão. Tentativa ' + str(counter+1) + '. Erro: ' + str(e))\n",
    "                new_try = True\n",
    "                counter = counter + 1\n",
    "                time.sleep(1)\n",
    "\n",
    "        if counter == try_times and new_try:\n",
    "            msg = 'Não foi possível conectar ao SFTP após 10 tentativas, verifique os parametros e tente novamente'\n",
    "            #f.TelegramAlerts().execute(msg)        \n",
    "            #sys.exit(LOGGER.info(msg)) \n",
    "        else:\n",
    "            print('Conexão estabelecida com sucesso na tentativa ' + str(counter+1) + '.')\n",
    "\n",
    "        # switch to a remote directory\n",
    "        sftp.cwd(SFTPDir)   \n",
    "        print('Iniciando processo de transferencia do arquivo...: ')\n",
    "        sftp.put('{}{}{}'.format(os.getcwd(), os.path.sep, file))\n",
    "        print('Fim do processo de transferencia do arquivo...: ')\n",
    "        directory_structure = sftp.listdir_attr()\n",
    "        # print data\n",
    "        for attr in directory_structure:\n",
    "            if attr.filename == file:\n",
    "                print('Arquivo ' + file + ' importado com sucesso no diretório ' + SFTPDir)\n",
    "                flagDel = True\n",
    "            \n",
    "        #encerra a conexão\n",
    "        sftp.close()\n",
    "\n",
    "        return flagDel\n",
    "    except Exception as e:\n",
    "        msg = 'Erro na função SFTPConnect: ' + str(e)\n",
    "        #LOGGER.error(msg)\n",
    "        #f.TelegramAlerts().execute(msg)\n",
    "        raise e\n",
    "    \n",
    "\n",
    "def deleteFile(flagDelete,filename):\n",
    "    try:\n",
    "        #delete arquivo da origem \n",
    "        fileToDelete = '{}{}{}'.format(os.getcwd(), os.path.sep, filename)\n",
    "\n",
    "        if os.path.exists(fileToDelete) and flagDelete:\n",
    "            os.remove(fileToDelete)\n",
    "            return print(\"Arquivo local removido com sucesso\")\n",
    "        elif flagDelete is False:\n",
    "            return print(\"Arquivo não foi gerado. Ver log\")\n",
    "        else:\n",
    "            return print(\"Arquivo não existe\")\n",
    "    except Exception as e:\n",
    "        msg = 'Erro na função deleteFile: ' + str(e)\n",
    "        print(error(msg))\n",
    "        #f.TelegramAlerts("
   ]
  },
  {
   "cell_type": "code",
   "execution_count": null,
   "metadata": {
    "colab": {
     "base_uri": "https://localhost:8080/"
    },
    "id": "w2QVlsrQz3K1",
    "outputId": "fa687a72-474f-4cfa-8c30-6e17325132a0"
   },
   "outputs": [],
   "source": [
    "#define diretório a ser importado o arquivo TB_Cliente\n",
    "SFTPDir = '/Import/'\n",
    "\n",
    "filename = 'tbProduto_teste_FTP.xlsx'\n",
    "flagDel = SFTPConnect(filename,SFTPDir) \n",
    "generator.deleteFile(flagDel,filename)"
   ]
  },
  {
   "cell_type": "code",
   "execution_count": null,
   "metadata": {
    "id": "uK1jMoJlqaWw"
   },
   "outputs": [],
   "source": [
    "#pysftp==0.2.9"
   ]
  },
  {
   "cell_type": "code",
   "execution_count": null,
   "metadata": {
    "id": "XcaXTPC6z3Hf"
   },
   "outputs": [],
   "source": [
    "import csv\n",
    "import json\n",
    "import pysftp\n",
    "import re\n",
    "import os\n",
    "import sys\n",
    "import time\n",
    "from datetime import datetime"
   ]
  },
  {
   "cell_type": "code",
   "execution_count": null,
   "metadata": {
    "colab": {
     "base_uri": "https://localhost:8080/"
    },
    "executionInfo": {
     "elapsed": 700,
     "status": "ok",
     "timestamp": 1628253683235,
     "user": {
      "displayName": "Tiago Dias",
      "photoUrl": "https://lh3.googleusercontent.com/a-/AOh14GiW4O_25wWQwVNJvj8cP-mYxouZ1TLUXKUrN-to2JQ=s64",
      "userId": "11325234452599299452"
     },
     "user_tz": 180
    },
    "id": "UHajW075z2__",
    "outputId": "6afa7594-08c5-41b9-fbd2-87b67fb8c49c"
   },
   "outputs": [],
   "source": [
    "conn = 'conn'\n",
    "user = 'user'\n",
    "pwd = 'pwd'\n",
    "cnopts = pysftp.CnOpts()\n",
    "cnopts.hostkeys = None\n",
    "\n",
    "sftp = pysftp.Connection(host=conn, username=user, password=pwd, cnopts=cnopts) "
   ]
  },
  {
   "cell_type": "code",
   "execution_count": null,
   "metadata": {
    "id": "pf9FWpK5c0DD"
   },
   "outputs": [],
   "source": [
    "#define diretório a ser importado o arquivo TB_Cliente\n",
    "SFTPDir = '/Import/'\n",
    "\n",
    "filename = 'tbProduto_teste_FTP.xlsx'"
   ]
  },
  {
   "cell_type": "code",
   "execution_count": null,
   "metadata": {
    "colab": {
     "base_uri": "https://localhost:8080/"
    },
    "executionInfo": {
     "elapsed": 1319,
     "status": "ok",
     "timestamp": 1628253687222,
     "user": {
      "displayName": "Tiago Dias",
      "photoUrl": "https://lh3.googleusercontent.com/a-/AOh14GiW4O_25wWQwVNJvj8cP-mYxouZ1TLUXKUrN-to2JQ=s64",
      "userId": "11325234452599299452"
     },
     "user_tz": 180
    },
    "id": "eMsezfRy49uW",
    "outputId": "9f41c89a-6900-4bea-8c91-24ba172136e0"
   },
   "outputs": [],
   "source": [
    "sftp.cwd(SFTPDir)\n",
    "\n",
    "print('Iniciando processo de transferencia do arquivo...: ')\n",
    "sftp.put('{}{}{}'.format(os.getcwd(), os.path.sep, filename))\n",
    "print('Fim do processo de transferencia do arquivo...: ')\n",
    "directory_structure = sftp.listdir_attr()\n",
    "# print data\n",
    "for attr in directory_structure:\n",
    "    if attr.filename == filename:\n",
    "        print('Arquivo ' + filename + ' importado com sucesso no diretório ' + SFTPDir)\n",
    "        flagDel = True"
   ]
  },
  {
   "cell_type": "code",
   "execution_count": null,
   "metadata": {
    "colab": {
     "base_uri": "https://localhost:8080/"
    },
    "executionInfo": {
     "elapsed": 2,
     "status": "ok",
     "timestamp": 1628253687519,
     "user": {
      "displayName": "Tiago Dias",
      "photoUrl": "https://lh3.googleusercontent.com/a-/AOh14GiW4O_25wWQwVNJvj8cP-mYxouZ1TLUXKUrN-to2JQ=s64",
      "userId": "11325234452599299452"
     },
     "user_tz": 180
    },
    "id": "3mga4H4GeNG8",
    "outputId": "58fefd83-b5e5-46b9-ce6a-58c40b3b335c"
   },
   "outputs": [],
   "source": [
    "#delete arquivo da origem \n",
    "fileToDelete = '{}{}{}'.format(os.getcwd(), os.path.sep, filename)\n",
    "\n",
    "if os.path.exists(fileToDelete) and flagDel:\n",
    "    os.remove(fileToDelete)\n",
    "    print(\"Arquivo local removido com sucesso\")\n",
    "elif flagDel is False:\n",
    "    print(\"Arquivo não foi gerado. Ver log\")\n",
    "else:\n",
    "    print(\"Arquivo não existe\")\n",
    "\n",
    "sftp.close()"
   ]
  }
 ],
 "metadata": {
  "colab": {
   "authorship_tag": "ABX9TyPyzeA6sKG2ov0odEG8Pqvu",
   "name": "FTP.ipynb",
   "provenance": []
  },
  "kernelspec": {
   "display_name": "Python 3 (ipykernel)",
   "language": "python",
   "name": "python3"
  },
  "language_info": {
   "codemirror_mode": {
    "name": "ipython",
    "version": 3
   },
   "file_extension": ".py",
   "mimetype": "text/x-python",
   "name": "python",
   "nbconvert_exporter": "python",
   "pygments_lexer": "ipython3",
   "version": "3.9.12"
  }
 },
 "nbformat": 4,
 "nbformat_minor": 1
}
