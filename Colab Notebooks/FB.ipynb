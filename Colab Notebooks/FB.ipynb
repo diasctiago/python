{
 "cells": [
  {
   "cell_type": "code",
   "execution_count": null,
   "metadata": {
    "colab": {
     "base_uri": "https://localhost:8080/"
    },
    "executionInfo": {
     "elapsed": 5046,
     "status": "ok",
     "timestamp": 1633438221219,
     "user": {
      "displayName": "Tiago Dias",
      "photoUrl": "https://lh3.googleusercontent.com/a-/AOh14GiW4O_25wWQwVNJvj8cP-mYxouZ1TLUXKUrN-to2JQ=s64",
      "userId": "11325234452599299452"
     },
     "user_tz": 180
    },
    "id": "sKa_XXRkLbwH",
    "outputId": "ae43bf1b-39a2-47a9-959c-eaf272920c23"
   },
   "outputs": [],
   "source": [
    "!pip install facebook_business"
   ]
  },
  {
   "cell_type": "code",
   "execution_count": null,
   "metadata": {
    "id": "Jev3H8_xO7jb"
   },
   "outputs": [],
   "source": [
    "from facebook_business.api import FacebookAdsApi\n",
    "from facebook_business.adobjects.adaccount import AdAccount\n",
    "from facebook_business.adobjects.campaign import Campaign\n",
    "\n",
    "\n",
    "my_app_id = 'my_app_id'\n",
    "my_app_secret = 'my_app_secret'\n",
    "my_access_token = 'my_access_token'\n",
    "FacebookAdsApi.init(my_app_id, my_app_secret, my_access_token)\n",
    "my_account = AdAccount('my_account')\n",
    "my_campaign = Campaign('my_campaign')"
   ]
  },
  {
   "cell_type": "code",
   "execution_count": null,
   "metadata": {
    "id": "2SRkSJIfjMI_"
   },
   "outputs": [],
   "source": [
    "#dir(my_account)"
   ]
  },
  {
   "cell_type": "code",
   "execution_count": null,
   "metadata": {
    "colab": {
     "base_uri": "https://localhost:8080/",
     "height": 596
    },
    "executionInfo": {
     "elapsed": 834,
     "status": "error",
     "timestamp": 1633444431834,
     "user": {
      "displayName": "Tiago Dias",
      "photoUrl": "https://lh3.googleusercontent.com/a-/AOh14GiW4O_25wWQwVNJvj8cP-mYxouZ1TLUXKUrN-to2JQ=s64",
      "userId": "11325234452599299452"
     },
     "user_tz": 180
    },
    "id": "ZstkEutijKql",
    "outputId": "0b57633c-c516-4ca6-8215-5946b532be8d"
   },
   "outputs": [],
   "source": [
    "my_account_insights = my_account.get_insights()\n",
    "print(my_account_insights)"
   ]
  },
  {
   "cell_type": "code",
   "execution_count": null,
   "metadata": {
    "id": "EF-vwMH2oX3q"
   },
   "outputs": [],
   "source": [
    "#dir(my_campaign)"
   ]
  },
  {
   "cell_type": "code",
   "execution_count": null,
   "metadata": {
    "colab": {
     "base_uri": "https://localhost:8080/",
     "height": 596
    },
    "executionInfo": {
     "elapsed": 702,
     "status": "error",
     "timestamp": 1633440518002,
     "user": {
      "displayName": "Tiago Dias",
      "photoUrl": "https://lh3.googleusercontent.com/a-/AOh14GiW4O_25wWQwVNJvj8cP-mYxouZ1TLUXKUrN-to2JQ=s64",
      "userId": "11325234452599299452"
     },
     "user_tz": 180
    },
    "id": "X4EmA5wxofSd",
    "outputId": "bd1b404d-a2ae-4591-fb2a-91b119b31f43"
   },
   "outputs": [],
   "source": [
    "my_campaign_insights = my_account.get_insights()\n",
    "print(my_campaign_insights)"
   ]
  },
  {
   "cell_type": "code",
   "execution_count": null,
   "metadata": {
    "colab": {
     "base_uri": "https://localhost:8080/",
     "height": 630
    },
    "executionInfo": {
     "elapsed": 665,
     "status": "error",
     "timestamp": 1633443100339,
     "user": {
      "displayName": "Tiago Dias",
      "photoUrl": "https://lh3.googleusercontent.com/a-/AOh14GiW4O_25wWQwVNJvj8cP-mYxouZ1TLUXKUrN-to2JQ=s64",
      "userId": "11325234452599299452"
     },
     "user_tz": 180
    },
    "id": "OiOEh9CfrTfc",
    "outputId": "f33a5aeb-fe2a-4577-9649-41a8740113da"
   },
   "outputs": [],
   "source": [
    "from facebookads.api import FacebookAdsApi\n",
    "import facebook_business\n",
    "\n",
    "my_app_id = 'my_app_id'\n",
    "my_app_secret = 'my_app_secret'\n",
    "my_access_token = 'my_access_token'\n",
    "my_account = AdAccount('my_account')\n",
    "\n",
    "from facebook_business.adobjects.adaccount import AdAccount\n",
    "from facebook_business.adobjects.adsinsights import AdsInsights\n",
    "from facebook_business.api import FacebookAdsApi\n",
    "\n",
    "FacebookAdsApi.init(my_app_id, my_app_secret, my_access_token)\n",
    "\n",
    "fields = [\n",
    "    'campaign_id',\n",
    "    'campaign_name',\n",
    "    'adset_id',\n",
    "    'adset_name',\n",
    "    'impressions',\n",
    "    'clicks',\n",
    "    'unique_clicks',\n",
    "    'action_values',\n",
    "    'spend',\n",
    "]\n",
    "params = {\n",
    "    #'time_range': {'since':'2021-08-28','until':'2021-08-31'},\n",
    "    'date_preset':'last_28d',\n",
    "    'filtering': [{'field':'action_type','operator':'IN','value':['omni_purchase']}],\n",
    "    'level': 'adset',\n",
    "    'breakdowns': [],\n",
    "    'time_increment':'1',\n",
    "    'action_breakdowns': ['action_type']\n",
    "}\n",
    "\n",
    "results=(AdAccount(my_app_id).get_insights(\n",
    "    fields=fields,\n",
    "    params=params,\n",
    "    )\n",
    ")"
   ]
  }
 ],
 "metadata": {
  "colab": {
   "collapsed_sections": [],
   "name": "FB.ipynb",
   "provenance": [
    {
     "file_id": "1kG1vgGsddno1qg9RrQ0mZRcCa2KlhJVu",
     "timestamp": 1633436383500
    }
   ]
  },
  "kernelspec": {
   "display_name": "Python 3 (ipykernel)",
   "language": "python",
   "name": "python3"
  },
  "language_info": {
   "codemirror_mode": {
    "name": "ipython",
    "version": 3
   },
   "file_extension": ".py",
   "mimetype": "text/x-python",
   "name": "python",
   "nbconvert_exporter": "python",
   "pygments_lexer": "ipython3",
   "version": "3.9.12"
  }
 },
 "nbformat": 4,
 "nbformat_minor": 1
}
